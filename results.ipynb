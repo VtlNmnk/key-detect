{
 "cells": [
  {
   "cell_type": "code",
   "execution_count": 1,
   "metadata": {},
   "outputs": [],
   "source": [
    "%load_ext autoreload"
   ]
  },
  {
   "cell_type": "code",
   "execution_count": 2,
   "metadata": {},
   "outputs": [],
   "source": [
    "%autoreload 2"
   ]
  },
  {
   "cell_type": "code",
   "execution_count": 3,
   "metadata": {},
   "outputs": [],
   "source": [
    "import os\n",
    "import numpy as np\n",
    "import pandas as pd\n",
    "import matplotlib.pyplot as plt\n",
    "import seaborn as sns\n",
    "from IPython import display\n",
    "\n",
    "import torch\n",
    "from sklearn.externals import joblib\n",
    "\n",
    "# local modules\n",
    "import fileio\n",
    "import features\n",
    "import keys\n",
    "import evaluation\n",
    "from utils import grouped_bar_chart, number_countplot\n",
    "\n",
    "FS = fileio.FS\n",
    "NUM_SAMPLES = fileio.NUM_SAMPLES\n",
    "OUTPUT_PREFIX = fileio.OUTPUT_PREFIX  # location of fitted models"
   ]
  },
  {
   "cell_type": "code",
   "execution_count": 4,
   "metadata": {},
   "outputs": [],
   "source": [
    "# plt.rcParams['figure.figsize'] = [6.0, 4.0]  # Default\n",
    "mult = 2/3\n",
    "plt.rcParams['figure.figsize'] = [6.0*mult, 4.0*mult]\n",
    "WIDEFIG_SIZE = (10.0*mult, 4.0*mult)"
   ]
  },
  {
   "cell_type": "markdown",
   "metadata": {},
   "source": [
    "# Load data"
   ]
  },
  {
   "cell_type": "code",
   "execution_count": 5,
   "metadata": {},
   "outputs": [],
   "source": [
    "DATA_DIR = './data/working'\n",
    "\n",
    "# Full dataset\n",
    "X = np.load(\"{}/X_cqt.npz\".format(DATA_DIR))['X']\n",
    "Y = np.load(\"{}/Y.npz\".format(DATA_DIR))['Y']\n",
    "labels = pd.read_pickle(\"{}/labels.pkl\".format(DATA_DIR))\n",
    "\n",
    "# Indeces for splits\n",
    "with np.load(\"{}/splits.npz\".format(DATA_DIR)) as splits:\n",
    "    train_idx = splits['train_idx']\n",
    "    test_idx = splits['test_idx']\n",
    "\n",
    "# Splits prior to augmentation\n",
    "X_train = X[train_idx, :]\n",
    "Y_train = Y[train_idx, :]\n",
    "labels_train = labels.iloc[train_idx]\n",
    "X_test = X[test_idx, :]\n",
    "Y_test = Y[test_idx, :]\n",
    "labels_test = labels.iloc[test_idx]\n",
    "\n",
    "# The data with which we augment the training data\n",
    "with np.load(\"{}/data_aug.npz\".format(DATA_DIR)) as data:\n",
    "    X_aug = data['X']\n",
    "    Y_aug = data['Y']\n",
    "labels_aug = pd.DataFrame(np.argmax(Y_aug, axis=1), columns=['key'])\n",
    "labels_aug['raw'] = 0.0\n",
    "labels_aug['dataset'] = 'augmented'\n",
    "\n",
    "# Augmented data used for training\n",
    "X_train_aug = np.vstack([X_train, X_aug])\n",
    "Y_train_aug = np.vstack([Y_train, Y_aug])\n",
    "labels_train_aug = pd.concat([labels.iloc[train_idx], labels_aug], axis=0, sort=False)"
   ]
  },
  {
   "cell_type": "markdown",
   "metadata": {},
   "source": [
    "Data description:\n",
    "* All imported data (see `fileio` for how these were made):\n",
    "    - `X` - cqt of each waveform\n",
    "    - `Y` - one-hot representation of key for each waveform\n",
    "    - `labels` - key and other labels for each waveform\n",
    "* `train_idx`, `test_idx` - train and test indices for splits (created with `fileio.train_test_split`)\n",
    "* Testing data:\n",
    "    - `*_test`\n",
    "* **Un-augmented** Training data:\n",
    "    - `*_train`\n",
    "* The data which augments the training data:\n",
    "    - `*_aug`\n",
    "* **Augmented** Training data:\n",
    "    - `*_train_aug`\n",
    "    \n",
    "N.B. The test data is not augmented. The augmented training data has the same number of examples for each key."
   ]
  },
  {
   "cell_type": "markdown",
   "metadata": {},
   "source": [
    "# Get predicted probabilities"
   ]
  },
  {
   "cell_type": "code",
   "execution_count": 6,
   "metadata": {},
   "outputs": [],
   "source": [
    "pred_probs = {}"
   ]
  },
  {
   "cell_type": "markdown",
   "metadata": {},
   "source": [
    "## GPU config"
   ]
  },
  {
   "cell_type": "code",
   "execution_count": 7,
   "metadata": {},
   "outputs": [],
   "source": [
    "os.environ[\"CUDA_VISIBLE_DEVICES\"] = \"2\"\n",
    "device = torch.device('cuda:0' if torch.cuda.is_available() else 'cpu')"
   ]
  },
  {
   "cell_type": "markdown",
   "metadata": {},
   "source": [
    "## OM1"
   ]
  },
  {
   "cell_type": "markdown",
   "metadata": {},
   "source": [
    "### Data preprocessing"
   ]
  },
  {
   "cell_type": "code",
   "execution_count": 8,
   "metadata": {},
   "outputs": [],
   "source": [
    "X_train_torch = torch.from_numpy(X_train_aug).float()\n",
    "X_test_torch = torch.from_numpy(X_test).float()"
   ]
  },
  {
   "cell_type": "markdown",
   "metadata": {},
   "source": [
    "### Load model"
   ]
  },
  {
   "cell_type": "code",
   "execution_count": 9,
   "metadata": {},
   "outputs": [],
   "source": [
    "model_pkl_loc = '{}/MO1_model_best.pkl'.format(OUTPUT_PREFIX)\n",
    "mdl = torch.load(model_pkl_loc).to(device)"
   ]
  },
  {
   "cell_type": "markdown",
   "metadata": {},
   "source": [
    "### Make predictions"
   ]
  },
  {
   "cell_type": "code",
   "execution_count": 10,
   "metadata": {
    "scrolled": true
   },
   "outputs": [],
   "source": [
    "batch_size = 1024\n",
    "X_torch = X_train_torch\n",
    "nr_obs = X_torch.shape[0]\n",
    "num_batches = int(np.ceil(nr_obs / batch_size))\n",
    "pred_prob_train = []\n",
    "for batch_num in range(num_batches):\n",
    "    from_idx = batch_size * batch_num\n",
    "    to_idx = min(batch_size * (batch_num+1), nr_obs)\n",
    "    X_batch = X_torch[from_idx:to_idx]\n",
    "    X_batch = X_batch.to(device)\n",
    "    pred = mdl(X_batch).to('cpu')\n",
    "    pred_prob_train += [pred.detach().numpy()]"
   ]
  },
  {
   "cell_type": "code",
   "execution_count": 11,
   "metadata": {},
   "outputs": [],
   "source": [
    "pred_prob_train = np.vstack(pred_prob_train)"
   ]
  },
  {
   "cell_type": "code",
   "execution_count": 12,
   "metadata": {},
   "outputs": [],
   "source": [
    "batch_size = 1024\n",
    "X_torch = X_test_torch\n",
    "nr_obs = X_torch.shape[0]\n",
    "num_batches = int(np.ceil(nr_obs / batch_size))\n",
    "pred_prob_test = []\n",
    "for batch_num in range(num_batches):\n",
    "    from_idx = batch_size * batch_num\n",
    "    to_idx = min(batch_size * (batch_num+1), nr_obs)\n",
    "    X_batch = X_torch[from_idx:to_idx]\n",
    "    X_batch = X_batch.to(device)\n",
    "    pred = mdl(X_batch).to('cpu')\n",
    "    pred_prob_test += [pred.detach().numpy()]"
   ]
  },
  {
   "cell_type": "code",
   "execution_count": 13,
   "metadata": {},
   "outputs": [],
   "source": [
    "pred_prob_test = np.vstack(pred_prob_test)"
   ]
  },
  {
   "cell_type": "code",
   "execution_count": 14,
   "metadata": {},
   "outputs": [],
   "source": [
    "pred_probs['OM1'] = {'train': pred_prob_train, 'test': pred_prob_test}"
   ]
  },
  {
   "cell_type": "markdown",
   "metadata": {},
   "source": [
    "## OM2"
   ]
  },
  {
   "cell_type": "markdown",
   "metadata": {},
   "source": [
    "### Load model"
   ]
  },
  {
   "cell_type": "code",
   "execution_count": 15,
   "metadata": {},
   "outputs": [],
   "source": [
    "model_pkl_loc = '{}/MO2_model_best.pkl'.format(OUTPUT_PREFIX)\n",
    "mdl = torch.load(model_pkl_loc).to(device)"
   ]
  },
  {
   "cell_type": "markdown",
   "metadata": {},
   "source": [
    "### Make predictions"
   ]
  },
  {
   "cell_type": "code",
   "execution_count": 16,
   "metadata": {
    "scrolled": true
   },
   "outputs": [],
   "source": [
    "batch_size = 1024\n",
    "X_torch = X_train_torch\n",
    "nr_obs = X_torch.shape[0]\n",
    "num_batches = int(np.ceil(nr_obs / batch_size))\n",
    "pred_prob_train = []\n",
    "for batch_num in range(num_batches):\n",
    "    from_idx = batch_size * batch_num\n",
    "    to_idx = min(batch_size * (batch_num+1), nr_obs)\n",
    "    X_batch = X_torch[from_idx:to_idx]\n",
    "    X_batch = X_batch.to(device)\n",
    "    pred = mdl(X_batch).to('cpu')\n",
    "    pred_prob_train += [pred.detach().numpy()]"
   ]
  },
  {
   "cell_type": "code",
   "execution_count": 17,
   "metadata": {},
   "outputs": [],
   "source": [
    "pred_prob_train = np.vstack(pred_prob_train)"
   ]
  },
  {
   "cell_type": "code",
   "execution_count": 18,
   "metadata": {},
   "outputs": [],
   "source": [
    "batch_size = 1024\n",
    "X_torch = X_test_torch\n",
    "nr_obs = X_torch.shape[0]\n",
    "num_batches = int(np.ceil(nr_obs / batch_size))\n",
    "pred_prob_test = []\n",
    "for batch_num in range(num_batches):\n",
    "    from_idx = batch_size * batch_num\n",
    "    to_idx = min(batch_size * (batch_num+1), nr_obs)\n",
    "    X_batch = X_torch[from_idx:to_idx]\n",
    "    X_batch = X_batch.to(device)\n",
    "    pred = mdl(X_batch).to('cpu')\n",
    "    pred_prob_test += [pred.detach().numpy()]"
   ]
  },
  {
   "cell_type": "code",
   "execution_count": 19,
   "metadata": {},
   "outputs": [],
   "source": [
    "pred_prob_test = np.vstack(pred_prob_test)"
   ]
  },
  {
   "cell_type": "code",
   "execution_count": 20,
   "metadata": {},
   "outputs": [],
   "source": [
    "pred_probs['OM2'] = {'train': pred_prob_train, 'test': pred_prob_test}"
   ]
  },
  {
   "cell_type": "markdown",
   "metadata": {},
   "source": [
    "## OM3"
   ]
  },
  {
   "cell_type": "markdown",
   "metadata": {},
   "source": [
    "### Data preprocessing"
   ]
  },
  {
   "cell_type": "code",
   "execution_count": 21,
   "metadata": {},
   "outputs": [],
   "source": [
    "X_train_aug_mean = np.mean(X_train_aug, axis=2)\n",
    "X_train_aug_mean -= np.mean(X_train_aug_mean, axis=1, keepdims=True)\n",
    "\n",
    "X_test_mean = np.mean(X_test, axis=2)\n",
    "X_test_mean -= np.mean(X_test_mean, axis=1, keepdims=True)"
   ]
  },
  {
   "cell_type": "markdown",
   "metadata": {},
   "source": [
    "### Load model"
   ]
  },
  {
   "cell_type": "code",
   "execution_count": 22,
   "metadata": {},
   "outputs": [],
   "source": [
    "model_pkl_loc = '{}/MO3_model_best.pkl'.format(OUTPUT_PREFIX)\n",
    "mdl = joblib.load(model_pkl_loc)"
   ]
  },
  {
   "cell_type": "markdown",
   "metadata": {},
   "source": [
    "### Make predictions"
   ]
  },
  {
   "cell_type": "code",
   "execution_count": 23,
   "metadata": {},
   "outputs": [],
   "source": [
    "pred_prob_train = mdl.predict_proba(X_train_aug_mean)"
   ]
  },
  {
   "cell_type": "code",
   "execution_count": 24,
   "metadata": {},
   "outputs": [],
   "source": [
    "pred_prob_test = mdl.predict_proba(X_test_mean)"
   ]
  },
  {
   "cell_type": "code",
   "execution_count": 25,
   "metadata": {
    "scrolled": true
   },
   "outputs": [
    {
     "data": {
      "text/plain": [
       "((44424, 24), (4227, 24))"
      ]
     },
     "execution_count": 25,
     "metadata": {},
     "output_type": "execute_result"
    }
   ],
   "source": [
    "pred_prob_train.shape, pred_prob_test.shape"
   ]
  },
  {
   "cell_type": "code",
   "execution_count": 26,
   "metadata": {},
   "outputs": [],
   "source": [
    "pred_probs['OM3'] = {'train': pred_prob_train, 'test': pred_prob_test}"
   ]
  },
  {
   "cell_type": "markdown",
   "metadata": {},
   "source": [
    "# Plot individual results"
   ]
  },
  {
   "cell_type": "code",
   "execution_count": 49,
   "metadata": {},
   "outputs": [],
   "source": [
    "def plot_results(pred_prob_train, pred_prob_test, Y_train, Y_test, labels_train, labels_test,\n",
    "                 train_title='', test_title='', fig_loc=''):\n",
    "    y_train = np.argmax(Y_train, axis=1)\n",
    "    y_test = np.argmax(Y_test, axis=1)\n",
    "    pred_train = np.argmax(pred_prob_train, axis=1)\n",
    "    pred_test = np.argmax(pred_prob_test, axis=1)\n",
    "    \n",
    "#     # Maybe adapt this to do train vs test pred prob quality comparison\n",
    "#     plt.figure()\n",
    "#     grouped_bar_chart(np.mean((Y_test - pred_prob_test)**2, axis=0, keepdims=True))\n",
    "    \n",
    "    plt.figure()\n",
    "    evaluation.plot_confusion_matrix(y_train, pred_train, title=train_title, norm=True, annot=False)\n",
    "    plt.savefig(fig_loc.format('train_confusion.pdf'), dpi=300, bbox_inches=\"tight\")\n",
    "    plt.savefig(fig_loc.format('train_confusion.png'), dpi=300, bbox_inches=\"tight\")\n",
    "    plt.show()\n",
    "    \n",
    "    plt.figure()\n",
    "    evaluation.plot_confusion_matrix(y_test, pred_test, title=test_title, norm=True, annot=False)\n",
    "    plt.savefig(fig_loc.format('test_confusion.pdf'), dpi=300, bbox_inches=\"tight\")\n",
    "    plt.savefig(fig_loc.format('test_confusion.png'), dpi=300, bbox_inches=\"tight\")\n",
    "    plt.show()\n",
    "    \n",
    "    scores_train = evaluation.get_scores(y_train, pred_train)\n",
    "    plt.figure()\n",
    "    if train_title:\n",
    "        space = '. '\n",
    "    else:\n",
    "        space = ''\n",
    "    plt.title('{}{}Avg = {:.3f}'.format(train_title, space, np.mean(scores_train)))\n",
    "    sns.countplot(scores_train, ax=plt.gca())\n",
    "    number_countplot()\n",
    "    plt.savefig(fig_loc.format('train_score.pdf'), dpi=300, bbox_inches=\"tight\")\n",
    "    plt.savefig(fig_loc.format('train_score.png'), dpi=300, bbox_inches=\"tight\")\n",
    "    plt.show()\n",
    "    \n",
    "    scores_test = evaluation.get_scores(y_test, pred_test)\n",
    "    plt.figure()\n",
    "    if test_title:\n",
    "        space = '. '\n",
    "    else:\n",
    "        space = ''\n",
    "    plt.title('{}{}Avg = {:.3f}'.format(test_title, space, np.mean(scores_test)))\n",
    "    sns.countplot(scores_test, ax=plt.gca())\n",
    "    number_countplot()\n",
    "    plt.savefig(fig_loc.format('test_score.pdf'), dpi=300, bbox_inches=\"tight\")\n",
    "    plt.savefig(fig_loc.format('test_score.png'), dpi=300, bbox_inches=\"tight\")\n",
    "    plt.show()"
   ]
  },
  {
   "cell_type": "code",
   "execution_count": 52,
   "metadata": {
    "scrolled": false
   },
   "outputs": [
    {
     "data": {
      "image/png": "[encoded data removed]",
      "text/plain": [
       "<Figure size 288x192 with 2 Axes>"
      ]
     },
     "metadata": {},
     "output_type": "display_data"
    },
    {
     "data": {
      "image/png": "[encoded data removed]",
      "text/plain": [
       "<Figure size 288x192 with 2 Axes>"
      ]
     },
     "metadata": {},
     "output_type": "display_data"
    },
    {
     "data": {
      "image/png": "[encoded data removed]",
      "text/plain": [
       "<Figure size 288x192 with 1 Axes>"
      ]
     },
     "metadata": {},
     "output_type": "display_data"
    },
    {
     "data": {
      "image/png": "[encoded data removed]",
      "text/plain": [
       "<Figure size 288x192 with 1 Axes>"
      ]
     },
     "metadata": {},
     "output_type": "display_data"
    },
    {
     "data": {
      "image/png": "[encoded data removed]",
      "text/plain": [
       "<Figure size 288x192 with 2 Axes>"
      ]
     },
     "metadata": {},
     "output_type": "display_data"
    },
    {
     "data": {
      "image/png": "[encoded data removed]",
      "text/plain": [
       "<Figure size 288x192 with 2 Axes>"
      ]
     },
     "metadata": {},
     "output_type": "display_data"
    },
    {
     "data": {
      "image/png": "[encoded data removed]",
      "text/plain": [
       "<Figure size 288x192 with 1 Axes>"
      ]
     },
     "metadata": {},
     "output_type": "display_data"
    },
    {
     "data": {
      "image/png": "[encoded data removed]",
      "text/plain": [
       "<Figure size 288x192 with 1 Axes>"
      ]
     },
     "metadata": {},
     "output_type": "display_data"
    },
    {
     "data": {
      "image/png": "[encoded data removed]",
      "text/plain": [
       "<Figure size 288x192 with 2 Axes>"
      ]
     },
     "metadata": {},
     "output_type": "display_data"
    },
    {
     "data": {
      "image/png": "[encoded data removed]",
      "text/plain": [
       "<Figure size 288x192 with 2 Axes>"
      ]
     },
     "metadata": {},
     "output_type": "display_data"
    },
    {
     "data": {
      "image/png": "[encoded data removed]",
      "text/plain": [
       "<Figure size 288x192 with 1 Axes>"
      ]
     },
     "metadata": {},
     "output_type": "display_data"
    },
    {
     "data": {
      "image/png": "[encoded data removed]",
      "text/plain": [
       "<Figure size 288x192 with 1 Axes>"
      ]
     },
     "metadata": {},
     "output_type": "display_data"
    }
   ],
   "source": [
    "for model in ['OM{}'.format(ii) for ii in range(1, 4)]:\n",
    "    fig_loc = 'figs/results_{}__{{}}'.format(model)\n",
    "    plot_results(pred_probs[model]['train'], pred_probs[model]['test'],\n",
    "                 Y_train_aug, Y_test, \n",
    "                 labels_train_aug, labels_test,\n",
    "                 train_title='Train', test_title='Test',\n",
    "                 fig_loc=fig_loc)"
   ]
  },
  {
   "cell_type": "markdown",
   "metadata": {},
   "source": [
    "# Scores plots"
   ]
  },
  {
   "cell_type": "code",
   "execution_count": 53,
   "metadata": {},
   "outputs": [],
   "source": [
    "def get_scores(pred_prob_train, pred_prob_test, Y_train, Y_test, labels_train, labels_test):\n",
    "    y_train = np.argmax(Y_train, axis=1)\n",
    "    y_test = np.argmax(Y_test, axis=1)\n",
    "    pred_train = np.argmax(pred_prob_train, axis=1)\n",
    "    pred_test = np.argmax(pred_prob_test, axis=1)\n",
    "    scores_train = evaluation.get_scores(y_train, pred_train)\n",
    "    scores_test = evaluation.get_scores(y_test, pred_test)\n",
    "    return scores_train, scores_test"
   ]
  },
  {
   "cell_type": "code",
   "execution_count": 56,
   "metadata": {},
   "outputs": [],
   "source": [
    "train_scores_dict = {}\n",
    "test_scores_dict = {}\n",
    "\n",
    "for model in ['OM{}'.format(ii) for ii in range(1, 4)]:\n",
    "    scores_train, scores_test = get_scores(\n",
    "        pred_probs[model]['train'], pred_probs[model]['test'],\n",
    "        Y_train_aug, Y_test, \n",
    "        labels_train_aug, labels_test)\n",
    "    train_scores_dict[model] = scores_train\n",
    "    test_scores_dict[model] = scores_test"
   ]
  },
  {
   "cell_type": "code",
   "execution_count": 73,
   "metadata": {},
   "outputs": [
    {
     "data": {
      "image/png": "[encoded data removed]",
      "text/plain": [
       "<Figure size 288x192 with 1 Axes>"
      ]
     },
     "metadata": {},
     "output_type": "display_data"
    }
   ],
   "source": [
    "scores_dict = train_scores_dict\n",
    "scores = [pd.DataFrame({'model':model, 'score':score}).reset_index() for model, score in scores_dict.items()]\n",
    "df = pd.concat(scores)\n",
    "x, y, hue = \"score\", \"prop\", \"model\"\n",
    "\n",
    "prop_df = (df[x]\n",
    "           .groupby(df[hue])\n",
    "           .value_counts(normalize=True)\n",
    "           .rename(y)\n",
    "           .reset_index())\n",
    "\n",
    "plt.figure()\n",
    "plt.gca().yaxis.grid(True)\n",
    "sns.barplot(x=x, y=y, hue=hue, data=prop_df, ax=plt.gca())\n",
    "\n",
    "fig_loc = 'figs/results_comparison__{}'\n",
    "plt.savefig(fig_loc.format('train_score.pdf'), dpi=300, bbox_inches=\"tight\")\n",
    "plt.savefig(fig_loc.format('train_score.png'), dpi=300, bbox_inches=\"tight\")\n",
    "plt.show()"
   ]
  },
  {
   "cell_type": "code",
   "execution_count": 76,
   "metadata": {},
   "outputs": [
    {
     "data": {
      "image/png": "[encoded data removed]",
      "text/plain": [
       "<Figure size 288x192 with 1 Axes>"
      ]
     },
     "metadata": {},
     "output_type": "display_data"
    }
   ],
   "source": [
    "scores_dict = test_scores_dict\n",
    "scores = [pd.DataFrame({'model':model, 'score':score}).reset_index() for model, score in scores_dict.items()]\n",
    "df = pd.concat(scores)\n",
    "x, y, hue = \"score\", \"prop\", \"model\"\n",
    "\n",
    "prop_df = (df[x]\n",
    "           .groupby(df[hue])\n",
    "           .value_counts(normalize=True)\n",
    "           .rename(y)\n",
    "           .reset_index())\n",
    "\n",
    "plt.figure()\n",
    "plt.gca().yaxis.grid(True)\n",
    "sns.barplot(x=x, y=y, hue=hue, data=prop_df, ax=plt.gca())\n",
    "\n",
    "fig_loc = 'figs/results_comparison__{}'\n",
    "plt.savefig(fig_loc.format('test_score.pdf'), dpi=300, bbox_inches=\"tight\")\n",
    "plt.savefig(fig_loc.format('test_score.png'), dpi=300, bbox_inches=\"tight\")\n",
    "plt.show()"
   ]
  },
  {
   "cell_type": "code",
   "execution_count": 77,
   "metadata": {},
   "outputs": [
    {
     "data": {
      "text/html": [
       "<div>\n",
       "<style scoped>\n",
       "    .dataframe tbody tr th:only-of-type {\n",
       "        vertical-align: middle;\n",
       "    }\n",
       "\n",
       "    .dataframe tbody tr th {\n",
       "        vertical-align: top;\n",
       "    }\n",
       "\n",
       "    .dataframe thead th {\n",
       "        text-align: right;\n",
       "    }\n",
       "</style>\n",
       "<table border=\"1\" class=\"dataframe\">\n",
       "  <thead>\n",
       "    <tr style=\"text-align: right;\">\n",
       "      <th></th>\n",
       "      <th>index</th>\n",
       "      <th>model</th>\n",
       "      <th>score</th>\n",
       "    </tr>\n",
       "  </thead>\n",
       "  <tbody>\n",
       "    <tr>\n",
       "      <th>0</th>\n",
       "      <td>0</td>\n",
       "      <td>OM1</td>\n",
       "      <td>1.0</td>\n",
       "    </tr>\n",
       "    <tr>\n",
       "      <th>1</th>\n",
       "      <td>1</td>\n",
       "      <td>OM1</td>\n",
       "      <td>1.0</td>\n",
       "    </tr>\n",
       "    <tr>\n",
       "      <th>2</th>\n",
       "      <td>2</td>\n",
       "      <td>OM1</td>\n",
       "      <td>1.0</td>\n",
       "    </tr>\n",
       "    <tr>\n",
       "      <th>3</th>\n",
       "      <td>3</td>\n",
       "      <td>OM1</td>\n",
       "      <td>1.0</td>\n",
       "    </tr>\n",
       "    <tr>\n",
       "      <th>4</th>\n",
       "      <td>4</td>\n",
       "      <td>OM1</td>\n",
       "      <td>1.0</td>\n",
       "    </tr>\n",
       "    <tr>\n",
       "      <th>5</th>\n",
       "      <td>5</td>\n",
       "      <td>OM1</td>\n",
       "      <td>0.5</td>\n",
       "    </tr>\n",
       "    <tr>\n",
       "      <th>6</th>\n",
       "      <td>6</td>\n",
       "      <td>OM1</td>\n",
       "      <td>1.0</td>\n",
       "    </tr>\n",
       "    <tr>\n",
       "      <th>7</th>\n",
       "      <td>7</td>\n",
       "      <td>OM1</td>\n",
       "      <td>1.0</td>\n",
       "    </tr>\n",
       "    <tr>\n",
       "      <th>8</th>\n",
       "      <td>8</td>\n",
       "      <td>OM1</td>\n",
       "      <td>0.3</td>\n",
       "    </tr>\n",
       "    <tr>\n",
       "      <th>9</th>\n",
       "      <td>9</td>\n",
       "      <td>OM1</td>\n",
       "      <td>0.5</td>\n",
       "    </tr>\n",
       "    <tr>\n",
       "      <th>10</th>\n",
       "      <td>10</td>\n",
       "      <td>OM1</td>\n",
       "      <td>1.0</td>\n",
       "    </tr>\n",
       "    <tr>\n",
       "      <th>11</th>\n",
       "      <td>11</td>\n",
       "      <td>OM1</td>\n",
       "      <td>1.0</td>\n",
       "    </tr>\n",
       "    <tr>\n",
       "      <th>12</th>\n",
       "      <td>12</td>\n",
       "      <td>OM1</td>\n",
       "      <td>1.0</td>\n",
       "    </tr>\n",
       "    <tr>\n",
       "      <th>13</th>\n",
       "      <td>13</td>\n",
       "      <td>OM1</td>\n",
       "      <td>0.0</td>\n",
       "    </tr>\n",
       "    <tr>\n",
       "      <th>14</th>\n",
       "      <td>14</td>\n",
       "      <td>OM1</td>\n",
       "      <td>1.0</td>\n",
       "    </tr>\n",
       "    <tr>\n",
       "      <th>15</th>\n",
       "      <td>15</td>\n",
       "      <td>OM1</td>\n",
       "      <td>1.0</td>\n",
       "    </tr>\n",
       "    <tr>\n",
       "      <th>16</th>\n",
       "      <td>16</td>\n",
       "      <td>OM1</td>\n",
       "      <td>1.0</td>\n",
       "    </tr>\n",
       "    <tr>\n",
       "      <th>17</th>\n",
       "      <td>17</td>\n",
       "      <td>OM1</td>\n",
       "      <td>0.5</td>\n",
       "    </tr>\n",
       "    <tr>\n",
       "      <th>18</th>\n",
       "      <td>18</td>\n",
       "      <td>OM1</td>\n",
       "      <td>1.0</td>\n",
       "    </tr>\n",
       "    <tr>\n",
       "      <th>19</th>\n",
       "      <td>19</td>\n",
       "      <td>OM1</td>\n",
       "      <td>0.0</td>\n",
       "    </tr>\n",
       "    <tr>\n",
       "      <th>20</th>\n",
       "      <td>20</td>\n",
       "      <td>OM1</td>\n",
       "      <td>0.2</td>\n",
       "    </tr>\n",
       "    <tr>\n",
       "      <th>21</th>\n",
       "      <td>21</td>\n",
       "      <td>OM1</td>\n",
       "      <td>1.0</td>\n",
       "    </tr>\n",
       "    <tr>\n",
       "      <th>22</th>\n",
       "      <td>22</td>\n",
       "      <td>OM1</td>\n",
       "      <td>0.0</td>\n",
       "    </tr>\n",
       "    <tr>\n",
       "      <th>23</th>\n",
       "      <td>23</td>\n",
       "      <td>OM1</td>\n",
       "      <td>1.0</td>\n",
       "    </tr>\n",
       "    <tr>\n",
       "      <th>24</th>\n",
       "      <td>24</td>\n",
       "      <td>OM1</td>\n",
       "      <td>1.0</td>\n",
       "    </tr>\n",
       "    <tr>\n",
       "      <th>25</th>\n",
       "      <td>25</td>\n",
       "      <td>OM1</td>\n",
       "      <td>1.0</td>\n",
       "    </tr>\n",
       "    <tr>\n",
       "      <th>26</th>\n",
       "      <td>26</td>\n",
       "      <td>OM1</td>\n",
       "      <td>1.0</td>\n",
       "    </tr>\n",
       "    <tr>\n",
       "      <th>27</th>\n",
       "      <td>27</td>\n",
       "      <td>OM1</td>\n",
       "      <td>0.5</td>\n",
       "    </tr>\n",
       "    <tr>\n",
       "      <th>28</th>\n",
       "      <td>28</td>\n",
       "      <td>OM1</td>\n",
       "      <td>1.0</td>\n",
       "    </tr>\n",
       "    <tr>\n",
       "      <th>29</th>\n",
       "      <td>29</td>\n",
       "      <td>OM1</td>\n",
       "      <td>1.0</td>\n",
       "    </tr>\n",
       "    <tr>\n",
       "      <th>...</th>\n",
       "      <td>...</td>\n",
       "      <td>...</td>\n",
       "      <td>...</td>\n",
       "    </tr>\n",
       "    <tr>\n",
       "      <th>4197</th>\n",
       "      <td>4197</td>\n",
       "      <td>OM3</td>\n",
       "      <td>1.0</td>\n",
       "    </tr>\n",
       "    <tr>\n",
       "      <th>4198</th>\n",
       "      <td>4198</td>\n",
       "      <td>OM3</td>\n",
       "      <td>1.0</td>\n",
       "    </tr>\n",
       "    <tr>\n",
       "      <th>4199</th>\n",
       "      <td>4199</td>\n",
       "      <td>OM3</td>\n",
       "      <td>1.0</td>\n",
       "    </tr>\n",
       "    <tr>\n",
       "      <th>4200</th>\n",
       "      <td>4200</td>\n",
       "      <td>OM3</td>\n",
       "      <td>1.0</td>\n",
       "    </tr>\n",
       "    <tr>\n",
       "      <th>4201</th>\n",
       "      <td>4201</td>\n",
       "      <td>OM3</td>\n",
       "      <td>1.0</td>\n",
       "    </tr>\n",
       "    <tr>\n",
       "      <th>4202</th>\n",
       "      <td>4202</td>\n",
       "      <td>OM3</td>\n",
       "      <td>1.0</td>\n",
       "    </tr>\n",
       "    <tr>\n",
       "      <th>4203</th>\n",
       "      <td>4203</td>\n",
       "      <td>OM3</td>\n",
       "      <td>1.0</td>\n",
       "    </tr>\n",
       "    <tr>\n",
       "      <th>4204</th>\n",
       "      <td>4204</td>\n",
       "      <td>OM3</td>\n",
       "      <td>1.0</td>\n",
       "    </tr>\n",
       "    <tr>\n",
       "      <th>4205</th>\n",
       "      <td>4205</td>\n",
       "      <td>OM3</td>\n",
       "      <td>1.0</td>\n",
       "    </tr>\n",
       "    <tr>\n",
       "      <th>4206</th>\n",
       "      <td>4206</td>\n",
       "      <td>OM3</td>\n",
       "      <td>1.0</td>\n",
       "    </tr>\n",
       "    <tr>\n",
       "      <th>4207</th>\n",
       "      <td>4207</td>\n",
       "      <td>OM3</td>\n",
       "      <td>0.0</td>\n",
       "    </tr>\n",
       "    <tr>\n",
       "      <th>4208</th>\n",
       "      <td>4208</td>\n",
       "      <td>OM3</td>\n",
       "      <td>0.5</td>\n",
       "    </tr>\n",
       "    <tr>\n",
       "      <th>4209</th>\n",
       "      <td>4209</td>\n",
       "      <td>OM3</td>\n",
       "      <td>1.0</td>\n",
       "    </tr>\n",
       "    <tr>\n",
       "      <th>4210</th>\n",
       "      <td>4210</td>\n",
       "      <td>OM3</td>\n",
       "      <td>1.0</td>\n",
       "    </tr>\n",
       "    <tr>\n",
       "      <th>4211</th>\n",
       "      <td>4211</td>\n",
       "      <td>OM3</td>\n",
       "      <td>1.0</td>\n",
       "    </tr>\n",
       "    <tr>\n",
       "      <th>4212</th>\n",
       "      <td>4212</td>\n",
       "      <td>OM3</td>\n",
       "      <td>0.0</td>\n",
       "    </tr>\n",
       "    <tr>\n",
       "      <th>4213</th>\n",
       "      <td>4213</td>\n",
       "      <td>OM3</td>\n",
       "      <td>1.0</td>\n",
       "    </tr>\n",
       "    <tr>\n",
       "      <th>4214</th>\n",
       "      <td>4214</td>\n",
       "      <td>OM3</td>\n",
       "      <td>0.3</td>\n",
       "    </tr>\n",
       "    <tr>\n",
       "      <th>4215</th>\n",
       "      <td>4215</td>\n",
       "      <td>OM3</td>\n",
       "      <td>0.5</td>\n",
       "    </tr>\n",
       "    <tr>\n",
       "      <th>4216</th>\n",
       "      <td>4216</td>\n",
       "      <td>OM3</td>\n",
       "      <td>0.0</td>\n",
       "    </tr>\n",
       "    <tr>\n",
       "      <th>4217</th>\n",
       "      <td>4217</td>\n",
       "      <td>OM3</td>\n",
       "      <td>1.0</td>\n",
       "    </tr>\n",
       "    <tr>\n",
       "      <th>4218</th>\n",
       "      <td>4218</td>\n",
       "      <td>OM3</td>\n",
       "      <td>1.0</td>\n",
       "    </tr>\n",
       "    <tr>\n",
       "      <th>4219</th>\n",
       "      <td>4219</td>\n",
       "      <td>OM3</td>\n",
       "      <td>1.0</td>\n",
       "    </tr>\n",
       "    <tr>\n",
       "      <th>4220</th>\n",
       "      <td>4220</td>\n",
       "      <td>OM3</td>\n",
       "      <td>1.0</td>\n",
       "    </tr>\n",
       "    <tr>\n",
       "      <th>4221</th>\n",
       "      <td>4221</td>\n",
       "      <td>OM3</td>\n",
       "      <td>1.0</td>\n",
       "    </tr>\n",
       "    <tr>\n",
       "      <th>4222</th>\n",
       "      <td>4222</td>\n",
       "      <td>OM3</td>\n",
       "      <td>1.0</td>\n",
       "    </tr>\n",
       "    <tr>\n",
       "      <th>4223</th>\n",
       "      <td>4223</td>\n",
       "      <td>OM3</td>\n",
       "      <td>0.0</td>\n",
       "    </tr>\n",
       "    <tr>\n",
       "      <th>4224</th>\n",
       "      <td>4224</td>\n",
       "      <td>OM3</td>\n",
       "      <td>1.0</td>\n",
       "    </tr>\n",
       "    <tr>\n",
       "      <th>4225</th>\n",
       "      <td>4225</td>\n",
       "      <td>OM3</td>\n",
       "      <td>1.0</td>\n",
       "    </tr>\n",
       "    <tr>\n",
       "      <th>4226</th>\n",
       "      <td>4226</td>\n",
       "      <td>OM3</td>\n",
       "      <td>1.0</td>\n",
       "    </tr>\n",
       "  </tbody>\n",
       "</table>\n",
       "<p>12681 rows × 3 columns</p>\n",
       "</div>"
      ],
      "text/plain": [
       "      index model  score\n",
       "0         0   OM1    1.0\n",
       "1         1   OM1    1.0\n",
       "2         2   OM1    1.0\n",
       "3         3   OM1    1.0\n",
       "4         4   OM1    1.0\n",
       "5         5   OM1    0.5\n",
       "6         6   OM1    1.0\n",
       "7         7   OM1    1.0\n",
       "8         8   OM1    0.3\n",
       "9         9   OM1    0.5\n",
       "10       10   OM1    1.0\n",
       "11       11   OM1    1.0\n",
       "12       12   OM1    1.0\n",
       "13       13   OM1    0.0\n",
       "14       14   OM1    1.0\n",
       "15       15   OM1    1.0\n",
       "16       16   OM1    1.0\n",
       "17       17   OM1    0.5\n",
       "18       18   OM1    1.0\n",
       "19       19   OM1    0.0\n",
       "20       20   OM1    0.2\n",
       "21       21   OM1    1.0\n",
       "22       22   OM1    0.0\n",
       "23       23   OM1    1.0\n",
       "24       24   OM1    1.0\n",
       "25       25   OM1    1.0\n",
       "26       26   OM1    1.0\n",
       "27       27   OM1    0.5\n",
       "28       28   OM1    1.0\n",
       "29       29   OM1    1.0\n",
       "...     ...   ...    ...\n",
       "4197   4197   OM3    1.0\n",
       "4198   4198   OM3    1.0\n",
       "4199   4199   OM3    1.0\n",
       "4200   4200   OM3    1.0\n",
       "4201   4201   OM3    1.0\n",
       "4202   4202   OM3    1.0\n",
       "4203   4203   OM3    1.0\n",
       "4204   4204   OM3    1.0\n",
       "4205   4205   OM3    1.0\n",
       "4206   4206   OM3    1.0\n",
       "4207   4207   OM3    0.0\n",
       "4208   4208   OM3    0.5\n",
       "4209   4209   OM3    1.0\n",
       "4210   4210   OM3    1.0\n",
       "4211   4211   OM3    1.0\n",
       "4212   4212   OM3    0.0\n",
       "4213   4213   OM3    1.0\n",
       "4214   4214   OM3    0.3\n",
       "4215   4215   OM3    0.5\n",
       "4216   4216   OM3    0.0\n",
       "4217   4217   OM3    1.0\n",
       "4218   4218   OM3    1.0\n",
       "4219   4219   OM3    1.0\n",
       "4220   4220   OM3    1.0\n",
       "4221   4221   OM3    1.0\n",
       "4222   4222   OM3    1.0\n",
       "4223   4223   OM3    0.0\n",
       "4224   4224   OM3    1.0\n",
       "4225   4225   OM3    1.0\n",
       "4226   4226   OM3    1.0\n",
       "\n",
       "[12681 rows x 3 columns]"
      ]
     },
     "execution_count": 77,
     "metadata": {},
     "output_type": "execute_result"
    }
   ],
   "source": [
    "df"
   ]
  },
  {
   "cell_type": "code",
   "execution_count": 79,
   "metadata": {},
   "outputs": [],
   "source": [
    "df = df.join(labels_test.reset_index(drop=True))\n"
   ]
  },
  {
   "cell_type": "code",
   "execution_count": 80,
   "metadata": {},
   "outputs": [],
   "source": [
    "x, y, hue = \"score\", \"prop\", \"dataset\""
   ]
  },
  {
   "cell_type": "code",
   "execution_count": 93,
   "metadata": {},
   "outputs": [
    {
     "data": {
      "image/png": "[encoded data removed]",
      "text/plain": [
       "<Figure size 288x192 with 1 Axes>"
      ]
     },
     "metadata": {},
     "output_type": "display_data"
    },
    {
     "data": {
      "image/png": "[encoded data removed]",
      "text/plain": [
       "<Figure size 288x192 with 1 Axes>"
      ]
     },
     "metadata": {},
     "output_type": "display_data"
    },
    {
     "data": {
      "image/png": "[encoded data removed]",
      "text/plain": [
       "<Figure size 288x192 with 1 Axes>"
      ]
     },
     "metadata": {},
     "output_type": "display_data"
    }
   ],
   "source": [
    "for model in ['OM{}'.format(ii) for ii in range(1, 4)]:\n",
    "    fig_loc = 'figs/results_{}__{{}}'.format(model)\n",
    "    df_ds = df.query('model == \"{}\"'.format(model))\n",
    "    prop_df = (df_ds[x]\n",
    "               .groupby(df_ds[hue])\n",
    "               .value_counts(normalize=True)\n",
    "               .rename(y)\n",
    "               .reset_index())\n",
    "\n",
    "    plt.figure()\n",
    "    plt.gca().yaxis.grid(True)\n",
    "    sns.barplot(x=x, y=y, hue=hue, data=prop_df, ax=plt.gca())\n",
    "    plt.ylim([0, 0.7])\n",
    "    plt.savefig(fig_loc.format('test_score_by_dataset.pdf'), dpi=300, bbox_inches=\"tight\")\n",
    "    plt.savefig(fig_loc.format('test_score_by_dataset.png'), dpi=300, bbox_inches=\"tight\")\n",
    "    plt.show()"
   ]
  },
  {
   "cell_type": "code",
   "execution_count": null,
   "metadata": {},
   "outputs": [],
   "source": []
  },
  {
   "cell_type": "code",
   "execution_count": null,
   "metadata": {},
   "outputs": [],
   "source": []
  },
  {
   "cell_type": "code",
   "execution_count": null,
   "metadata": {},
   "outputs": [],
   "source": []
  },
  {
   "cell_type": "code",
   "execution_count": null,
   "metadata": {},
   "outputs": [],
   "source": []
  },
  {
   "cell_type": "code",
   "execution_count": null,
   "metadata": {},
   "outputs": [],
   "source": []
  },
  {
   "cell_type": "code",
   "execution_count": null,
   "metadata": {},
   "outputs": [],
   "source": []
  },
  {
   "cell_type": "code",
   "execution_count": null,
   "metadata": {},
   "outputs": [],
   "source": []
  },
  {
   "cell_type": "code",
   "execution_count": null,
   "metadata": {},
   "outputs": [],
   "source": []
  },
  {
   "cell_type": "code",
   "execution_count": null,
   "metadata": {},
   "outputs": [],
   "source": []
  },
  {
   "cell_type": "code",
   "execution_count": null,
   "metadata": {},
   "outputs": [],
   "source": []
  },
  {
   "cell_type": "code",
   "execution_count": null,
   "metadata": {},
   "outputs": [],
   "source": []
  },
  {
   "cell_type": "code",
   "execution_count": null,
   "metadata": {},
   "outputs": [],
   "source": []
  },
  {
   "cell_type": "code",
   "execution_count": null,
   "metadata": {},
   "outputs": [],
   "source": []
  },
  {
   "cell_type": "code",
   "execution_count": null,
   "metadata": {},
   "outputs": [],
   "source": []
  },
  {
   "cell_type": "code",
   "execution_count": null,
   "metadata": {},
   "outputs": [],
   "source": []
  }
 ],
 "metadata": {
  "kernelspec": {
   "display_name": "Python 3",
   "language": "python",
   "name": "python3"
  },
  "language_info": {
   "codemirror_mode": {
    "name": "ipython",
    "version": 3
   },
   "file_extension": ".py",
   "mimetype": "text/x-python",
   "name": "python",
   "nbconvert_exporter": "python",
   "pygments_lexer": "ipython3",
   "version": "3.6.6"
  },
  "toc": {
   "base_numbering": 1,
   "nav_menu": {},
   "number_sections": true,
   "sideBar": true,
   "skip_h1_title": false,
   "title_cell": "Table of Contents",
   "title_sidebar": "Contents",
   "toc_cell": false,
   "toc_position": {},
   "toc_section_display": true,
   "toc_window_display": false
  }
 },
 "nbformat": 4,
 "nbformat_minor": 2
}
