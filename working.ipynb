{
 "cells": [
  {
   "cell_type": "code",
   "execution_count": 1,
   "metadata": {},
   "outputs": [],
   "source": [
    "import numpy as np\n",
    "import pandas as pd\n",
    "import matplotlib.pyplot as plt\n",
    "import librosa\n",
    "import fileio\n",
    "import keys\n",
    "import evaluation\n",
    "import full_model\n",
    "import data_aug\n",
    "import torch\n",
    "import torch.nn as nn\n",
    "import torch.nn.functional as F\n",
    "import torch.optim as optim\n",
    "import os\n",
    "import h5py"
   ]
  },
  {
   "cell_type": "code",
   "execution_count": 2,
   "metadata": {},
   "outputs": [],
   "source": [
    "#fileio.make_h5()\n",
    "#fileio.augment_h5()"
   ]
  },
  {
   "cell_type": "code",
   "execution_count": null,
   "metadata": {
    "scrolled": true
   },
   "outputs": [
    {
     "name": "stdout",
     "output_type": "stream",
     "text": [
      "ConvBiLstm(\n",
      "  (conv1): Conv2d(1, 10, kernel_size=(5, 5), stride=(1, 1), padding=(2, 2))\n",
      "  (conv2): Conv2d(10, 10, kernel_size=(5, 5), stride=(1, 1), padding=(2, 2))\n",
      "  (conv3): Conv2d(10, 10, kernel_size=(10, 10), stride=(2, 2), padding=(4, 4))\n",
      "  (dense): Conv2d(10, 48, kernel_size=(72, 1), stride=(1, 1))\n",
      "  (lstm): GRU(48, 48, num_layers=2, batch_first=True, bidirectional=True)\n",
      "  (conv_pool): Conv2d(1, 10, kernel_size=(1, 75), stride=(1, 1))\n",
      "  (fc1): Linear(in_features=96, out_features=48, bias=True)\n",
      "  (fc3): Linear(in_features=48, out_features=24, bias=True)\n",
      ")\n",
      "Batch 50/695\n",
      "Batch 100/695\n",
      "Batch 150/695\n",
      "Batch 200/695\n",
      "Batch 250/695\n",
      "Batch 300/695\n",
      "Batch 350/695\n",
      "Batch 400/695\n",
      "Batch 450/695\n",
      "Batch 500/695\n",
      "Batch 550/695\n",
      "Batch 600/695\n",
      "Batch 650/695\n",
      "epoch 0 loss: 2.967170907037228\n",
      "Train accuracy = 0.4504659643435976\n",
      "Test accuracy = 0.68708303761533\n",
      "Batch 50/695\n",
      "Batch 100/695\n"
     ]
    }
   ],
   "source": [
    "import full_model\n",
    "import model_tester\n",
    "\n",
    "import importlib\n",
    "importlib.reload(full_model)\n",
    "importlib.reload(model_tester)\n",
    "\n",
    "\n",
    "model_name = 'MO1'\n",
    "seed = None\n",
    "\n",
    "\n",
    "h5_file = 'data/working/data.h5'\n",
    "os.environ[\"CUDA_VISIBLE_DEVICES\"] = \"2\"\n",
    "device = torch.device('cuda:0' if torch.cuda.is_available() else 'cpu')\n",
    "\n",
    "if seed:\n",
    "    torch.manual_seed(seed)\n",
    "\n",
    "if model_name == 'MO2':\n",
    "    net = full_model.ReproductionNet()\n",
    "else:\n",
    "    model_name = 'MO1'\n",
    "    net = full_model.ConvBiLstm()\n",
    "\n",
    "train_losses, test_losses = model_tester.train_model(h5_file, net, model_name, weight_decay=0.00001,\n",
    "                         device=device, seed=seed, num_epochs=3)"
   ]
  },
  {
   "cell_type": "code",
   "execution_count": null,
   "metadata": {},
   "outputs": [],
   "source": []
  }
 ],
 "metadata": {
  "kernelspec": {
   "display_name": "Python 3",
   "language": "python",
   "name": "python3"
  },
  "language_info": {
   "codemirror_mode": {
    "name": "ipython",
    "version": 3
   },
   "file_extension": ".py",
   "mimetype": "text/x-python",
   "name": "python",
   "nbconvert_exporter": "python",
   "pygments_lexer": "ipython3",
   "version": "3.6.6"
  },
  "toc": {
   "base_numbering": 1,
   "nav_menu": {},
   "number_sections": true,
   "sideBar": true,
   "skip_h1_title": false,
   "title_cell": "Table of Contents",
   "title_sidebar": "Contents",
   "toc_cell": false,
   "toc_position": {},
   "toc_section_display": true,
   "toc_window_display": false
  }
 },
 "nbformat": 4,
 "nbformat_minor": 2
}
