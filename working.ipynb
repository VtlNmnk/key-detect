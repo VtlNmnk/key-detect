{
 "cells": [
  {
   "cell_type": "code",
   "execution_count": 1,
   "metadata": {},
   "outputs": [],
   "source": [
    "import numpy as np\n",
    "import pandas as pd\n",
    "import matplotlib.pyplot as plt\n",
    "import librosa\n",
    "import fileio\n",
    "import keys\n",
    "import evaluation\n",
    "import full_model\n",
    "import data_aug\n",
    "import torch\n",
    "import torch.nn as nn\n",
    "import torch.nn.functional as F\n",
    "import torch.optim as optim\n",
    "import os"
   ]
  },
  {
   "cell_type": "code",
   "execution_count": 2,
   "metadata": {},
   "outputs": [],
   "source": [
    "DATA_DIR = './data/working'\n",
    "\n",
    "labels = pd.read_pickle(\"{}/labels.pkl\".format(DATA_DIR))\n",
    "\n",
    "with np.load(\"{}/splits.npz\".format(DATA_DIR)) as splits:\n",
    "    train_idx = splits['train_idx']\n",
    "    test_idx = splits['test_idx']\n",
    "\n",
    "X = np.load(\"{}/X_cqt.npz\".format(DATA_DIR))['X']\n",
    "X_train = X[train_idx, :]\n",
    "X_test = X[test_idx, :]\n",
    "\n",
    "Y = np.load(\"{}/Y.npz\".format(DATA_DIR))['Y']\n",
    "Y_train = Y[train_idx, :]\n",
    "Y_test = Y[test_idx, :]\n",
    "\n",
    "aug = np.load(\"{}/data_aug.npz\".format(DATA_DIR))\n",
    "\n",
    "with np.load(\"{}/data_aug.npz\".format(DATA_DIR)) as aug:\n",
    "    X_train = np.vstack((X_train, aug['X']))\n",
    "    Y_train = np.vstack((Y_train, aug['Y']))\n",
    "\n",
    "X_train = torch.from_numpy(X_train).float()\n",
    "X_test = torch.from_numpy(X_test).float()\n",
    "\n",
    "Y_train = torch.from_numpy(np.argmax(Y_train, axis=1))\n",
    "Y_test = torch.from_numpy(np.argmax(Y_test, axis=1))"
   ]
  },
  {
   "cell_type": "code",
   "execution_count": null,
   "metadata": {
    "scrolled": true
   },
   "outputs": [
    {
     "name": "stdout",
     "output_type": "stream",
     "text": [
      "loading checkpoint 'data/output/checkpoint.pth.tar'\n",
      "ConvBiLstm(\n",
      "  (conv1): Conv2d(1, 10, kernel_size=(5, 5), stride=(1, 1), padding=(2, 2))\n",
      "  (conv2): Conv2d(10, 10, kernel_size=(5, 5), stride=(1, 1), padding=(2, 2))\n",
      "  (conv3): Conv2d(10, 10, kernel_size=(10, 10), stride=(2, 2), padding=(4, 4))\n",
      "  (dense): Conv2d(10, 48, kernel_size=(72, 1), stride=(1, 1))\n",
      "  (lstm): GRU(48, 48, num_layers=2, batch_first=True, bidirectional=True)\n",
      "  (conv_pool): Conv2d(1, 10, kernel_size=(1, 75), stride=(1, 1))\n",
      "  (fc1): Linear(in_features=96, out_features=48, bias=True)\n",
      "  (fc3): Linear(in_features=48, out_features=24, bias=True)\n",
      ")\n",
      "epoch 2 loss: 3.0710602404112337\n",
      "Train accuracy = 0.24831420373027258\n",
      "Test accuracy = 0.4136298421807747\n"
     ]
    }
   ],
   "source": [
    "import full_model\n",
    "import model_tester\n",
    "import importlib\n",
    "importlib.reload(full_model)\n",
    "importlib.reload(model_tester)\n",
    "\n",
    "os.environ[\"CUDA_VISIBLE_DEVICES\"]=\"2\"\n",
    "device=torch.device('cuda:0' if torch.cuda.is_available() else 'cpu')\n",
    "\n",
    "losses = model_tester.train_model(X_train, Y_train, X_test, Y_test, full_model.ConvBiLstm(), weight_decay=0.0005,\n",
    "                         device=device, resume='data/output/checkpoint.pth.tar')"
   ]
  },
  {
   "cell_type": "code",
   "execution_count": null,
   "metadata": {},
   "outputs": [],
   "source": []
  }
 ],
 "metadata": {
  "kernelspec": {
   "display_name": "Python 3",
   "language": "python",
   "name": "python3"
  },
  "language_info": {
   "codemirror_mode": {
    "name": "ipython",
    "version": 3
   },
   "file_extension": ".py",
   "mimetype": "text/x-python",
   "name": "python",
   "nbconvert_exporter": "python",
   "pygments_lexer": "ipython3",
   "version": "3.6.6"
  },
  "toc": {
   "base_numbering": 1,
   "nav_menu": {},
   "number_sections": true,
   "sideBar": true,
   "skip_h1_title": false,
   "title_cell": "Table of Contents",
   "title_sidebar": "Contents",
   "toc_cell": false,
   "toc_position": {},
   "toc_section_display": true,
   "toc_window_display": false
  }
 },
 "nbformat": 4,
 "nbformat_minor": 2
}
