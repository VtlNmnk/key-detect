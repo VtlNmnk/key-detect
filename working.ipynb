{
 "cells": [
  {
   "cell_type": "code",
   "execution_count": 30,
   "metadata": {},
   "outputs": [],
   "source": [
    "import numpy as np\n",
    "import pandas as pd\n",
    "import matplotlib.pyplot as plt\n",
    "import sunau\n",
    "\n",
    "STRING_MAP = ['A\\tmajor',\n",
    "             'A#\\tmajor',\n",
    "             'B\\tmajor',\n",
    "             'C\\tmajor',\n",
    "             'C#\\tmajor',\n",
    "             'D\\tmajor',\n",
    "             'D#\\tmajor',\n",
    "             'E\\tmajor',\n",
    "             'F\\tmajor',\n",
    "             'F#\\tmajor',\n",
    "             'G\\tmajor',\n",
    "             'G#\\tmajor',\n",
    "             'A\\tminor',\n",
    "             'A#\\tminor',\n",
    "             'B\\tminor',\n",
    "             'C\\tminor',\n",
    "             'C#\\tminor',\n",
    "             'D\\tminor',\n",
    "             'D#\\tminor',\n",
    "             'E\\tminor',\n",
    "             'F\\tminor',\n",
    "             'F#\\tminor',\n",
    "             'G\\tminor',\n",
    "             'G#\\tminor']\n"
   ]
  },
  {
   "cell_type": "code",
   "execution_count": 31,
   "metadata": {},
   "outputs": [],
   "source": [
    "def get_vector_from_key(key):\n",
    "    vector = np.zeros(24)\n",
    "    if key < 12: #major\n",
    "        vector[key] = 1\n",
    "        vector[(key + 7) % 12] = 0.5\n",
    "        vector[(key + 9) % 12 + 12] = 0.3\n",
    "        vector[key + 12] = 0.2\n",
    "    else: # minor\n",
    "        vector[key] = 1\n",
    "        vector[(key + 7) % 12 + 12] = 0.5\n",
    "        vector[(key + 3) % 12] = 0.3\n",
    "        vector[key - 12] = 0.2\n",
    "        \n",
    "    vector /= 2\n",
    "    \n",
    "    return vector"
   ]
  },
  {
   "cell_type": "code",
   "execution_count": 38,
   "metadata": {},
   "outputs": [],
   "source": [
    "def get_string_from_vector(vector):\n",
    "    return STRING_MAP[np.argmax(vector)]"
   ]
  },
  {
   "cell_type": "code",
   "execution_count": 39,
   "metadata": {},
   "outputs": [],
   "source": [
    "def generate_one_hot_guess(vector):\n",
    "    return np.argmax(vector)"
   ]
  },
  {
   "cell_type": "code",
   "execution_count": null,
   "metadata": {},
   "outputs": [],
   "source": [
    "def read_au_file(infile):\n",
    "    read_file = sunau.open(infile, 'r')\n",
    "    fs = read_file.getframerate()"
   ]
  },
  {
   "cell_type": "code",
   "execution_count": 34,
   "metadata": {},
   "outputs": [],
   "source": [
    "vector = np.array([0, 0, 0, 1, 0])"
   ]
  },
  {
   "cell_type": "code",
   "execution_count": 35,
   "metadata": {},
   "outputs": [
    {
     "data": {
      "text/plain": [
       "array([0, 0, 0, 1, 0])"
      ]
     },
     "execution_count": 35,
     "metadata": {},
     "output_type": "execute_result"
    }
   ],
   "source": [
    "vector"
   ]
  },
  {
   "cell_type": "code",
   "execution_count": 37,
   "metadata": {},
   "outputs": [
    {
     "data": {
      "text/plain": [
       "3"
      ]
     },
     "execution_count": 37,
     "metadata": {},
     "output_type": "execute_result"
    }
   ],
   "source": [
    "np.argmax(vector)"
   ]
  },
  {
   "cell_type": "code",
   "execution_count": null,
   "metadata": {},
   "outputs": [],
   "source": []
  }
 ],
 "metadata": {
  "kernelspec": {
   "display_name": "Python 3",
   "language": "python",
   "name": "python3"
  },
  "language_info": {
   "codemirror_mode": {
    "name": "ipython",
    "version": 3
   },
   "file_extension": ".py",
   "mimetype": "text/x-python",
   "name": "python",
   "nbconvert_exporter": "python",
   "pygments_lexer": "ipython3",
   "version": "3.6.6"
  }
 },
 "nbformat": 4,
 "nbformat_minor": 2
}
