{
 "cells": [
  {
   "cell_type": "code",
   "execution_count": 2,
   "metadata": {},
   "outputs": [],
   "source": [
    "import numpy as np\n",
    "import pandas as pd\n",
    "import matplotlib.pyplot as plt\n",
    "import librosa\n",
    "import fileio"
   ]
  },
  {
   "cell_type": "code",
   "execution_count": 3,
   "metadata": {},
   "outputs": [],
   "source": [
    "STRING_MAP = ['A\\tmajor',\n",
    "             'A#\\tmajor',\n",
    "             'B\\tmajor',\n",
    "             'C\\tmajor',\n",
    "             'C#\\tmajor',\n",
    "             'D\\tmajor',\n",
    "             'D#\\tmajor',\n",
    "             'E\\tmajor',\n",
    "             'F\\tmajor',\n",
    "             'F#\\tmajor',\n",
    "             'G\\tmajor',\n",
    "             'G#\\tmajor',\n",
    "             'A\\tminor',\n",
    "             'A#\\tminor',\n",
    "             'B\\tminor',\n",
    "             'C\\tminor',\n",
    "             'C#\\tminor',\n",
    "             'D\\tminor',\n",
    "             'D#\\tminor',\n",
    "             'E\\tminor',\n",
    "             'F\\tminor',\n",
    "             'F#\\tminor',\n",
    "             'G\\tminor',\n",
    "             'G#\\tminor']\n",
    "\n",
    "def get_string_from_vector(vector):\n",
    "    return STRING_MAP[np.argmax(vector)]\n",
    "\n",
    "def generate_one_hot_guess(vector):\n",
    "    return np.argmax(vector)"
   ]
  },
  {
   "cell_type": "code",
   "execution_count": 10,
   "metadata": {},
   "outputs": [],
   "source": [
    "# To create genre-specific npz files (required for randomizing splits)\n",
    "#fileio.process_data_into_np_files()\n",
    "\n",
    "# To create 26 random splits, each of size 32. (Except the last one, data/working/splits/split_25.npz is only size 5)\n",
    "#fileio.create_random_splits() # Randomized with random.seed(1), so our splits will be identical\n",
    "\n",
    "# To load a range of splits\n",
    "#X, Y = fileio.load_splits(range(5)) # loads splits 0-4\n",
    "#X.shape = (fileio.NUM_SAMPLES_GTZAN, 5 * 32)\n",
    "#Y.shape = (24, 5 * 32)"
   ]
  },
  {
   "cell_type": "code",
   "execution_count": 6,
   "metadata": {},
   "outputs": [
    {
     "name": "stdout",
     "output_type": "stream",
     "text": [
      "country\n",
      "[[11  5  3 11  5 14  4 13 12  0 13  3  3  0  1  0  0  0  0  0  0  0  1  0]]\n",
      "pop\n",
      "[[ 2  4  3  6  3  5  3  2  5  3  4  4  2  0  6 11  5  4  3  3  4  3  6  3]]\n",
      "hiphop\n",
      "[[2 3 1 2 0 0 2 1 0 1 1 0 8 5 9 8 3 8 7 8 4 1 4 3]]\n",
      "reggae\n",
      "[[ 6  6  2  7  6  4  3  1  5  0 10  3  9  2  9  4  0  4  1  1  0  7  7  0]]\n",
      "classical\n",
      "[[0 0 0 0 0 0 0 0 0 0 0 0 0 0 0 0 0 0 0 0 0 0 0 0]]\n",
      "jazz\n",
      "[[ 1  5  1 11  3  0  7  1 12  0  3  8  0  2  3  1  1  8  2  0  4  1  5  0]]\n",
      "rock\n",
      "[[ 8  1  0 11  3  5  4  4  5  3  9  2 14  1  3  5  2  6  2  3  0  2  3  2]]\n",
      "blues\n",
      "[[ 0  1  0  0  0  0  0  0  1  0  0  1 10 13  4  7  1  4 10 14 14  2 15  1]]\n",
      "disco\n",
      "[[ 4  2  3  8  0  5  0  2 10  2  5  2  8  4  6 12  2  4  1  6  6  0  5  1]]\n",
      "metal\n",
      "[[ 1  1  1  0  1  0  0  0  0  0  0  0 23  3  5  3  6  5  9 17  0  9  3  6]]\n"
     ]
    }
   ],
   "source": [
    "key_distribution = np.zeros((len(fileio.GENRES), 24))\n",
    "\n",
    "for idx in range(len(fileio.GENRES)):\n",
    "    genre = fileio.GENRES[idx]\n",
    "    offset = int(np.sum(fileio.GENRE_SIZES[:idx]))\n",
    "    \n",
    "    _, Y = fileio.load_from_range(offset, offset + fileio.GENRE_SIZES[idx])\n",
    "    \n",
    "    print(genre)\n",
    "    print(np.sum((Y == 0.5), axis=1, keepdims=True).T)\n",
    "    \n",
    "    key_distribution[idx, :] = np.sum((Y == 0.5), axis=1, keepdims=True).T"
   ]
  },
  {
   "cell_type": "code",
   "execution_count": 7,
   "metadata": {},
   "outputs": [
    {
     "data": {
      "text/plain": [
       "array([[11.,  5.,  3., 11.,  5., 14.,  4., 13., 12.,  0., 13.,  3.,  3.,\n",
       "         0.,  1.,  0.,  0.,  0.,  0.,  0.,  0.,  0.,  1.,  0.],\n",
       "       [ 2.,  4.,  3.,  6.,  3.,  5.,  3.,  2.,  5.,  3.,  4.,  4.,  2.,\n",
       "         0.,  6., 11.,  5.,  4.,  3.,  3.,  4.,  3.,  6.,  3.],\n",
       "       [ 2.,  3.,  1.,  2.,  0.,  0.,  2.,  1.,  0.,  1.,  1.,  0.,  8.,\n",
       "         5.,  9.,  8.,  3.,  8.,  7.,  8.,  4.,  1.,  4.,  3.],\n",
       "       [ 6.,  6.,  2.,  7.,  6.,  4.,  3.,  1.,  5.,  0., 10.,  3.,  9.,\n",
       "         2.,  9.,  4.,  0.,  4.,  1.,  1.,  0.,  7.,  7.,  0.],\n",
       "       [ 0.,  0.,  0.,  0.,  0.,  0.,  0.,  0.,  0.,  0.,  0.,  0.,  0.,\n",
       "         0.,  0.,  0.,  0.,  0.,  0.,  0.,  0.,  0.,  0.,  0.],\n",
       "       [ 1.,  5.,  1., 11.,  3.,  0.,  7.,  1., 12.,  0.,  3.,  8.,  0.,\n",
       "         2.,  3.,  1.,  1.,  8.,  2.,  0.,  4.,  1.,  5.,  0.],\n",
       "       [ 8.,  1.,  0., 11.,  3.,  5.,  4.,  4.,  5.,  3.,  9.,  2., 14.,\n",
       "         1.,  3.,  5.,  2.,  6.,  2.,  3.,  0.,  2.,  3.,  2.],\n",
       "       [ 0.,  1.,  0.,  0.,  0.,  0.,  0.,  0.,  1.,  0.,  0.,  1., 10.,\n",
       "        13.,  4.,  7.,  1.,  4., 10., 14., 14.,  2., 15.,  1.],\n",
       "       [ 4.,  2.,  3.,  8.,  0.,  5.,  0.,  2., 10.,  2.,  5.,  2.,  8.,\n",
       "         4.,  6., 12.,  2.,  4.,  1.,  6.,  6.,  0.,  5.,  1.],\n",
       "       [ 1.,  1.,  1.,  0.,  1.,  0.,  0.,  0.,  0.,  0.,  0.,  0., 23.,\n",
       "         3.,  5.,  3.,  6.,  5.,  9., 17.,  0.,  9.,  3.,  6.]])"
      ]
     },
     "execution_count": 7,
     "metadata": {},
     "output_type": "execute_result"
    }
   ],
   "source": [
    "key_distribution"
   ]
  },
  {
   "cell_type": "code",
   "execution_count": 9,
   "metadata": {},
   "outputs": [
    {
     "data": {
      "text/plain": [
       "array([[0.04181601, 0.03345281, 0.0167264 , 0.06690562, 0.02508961,\n",
       "        0.03942652, 0.02747909, 0.02867384, 0.05973716, 0.01075269,\n",
       "        0.05376344, 0.02747909, 0.09199522, 0.03584229, 0.05495818,\n",
       "        0.0609319 , 0.02389486, 0.05137395, 0.04181601, 0.06212664,\n",
       "        0.03823178, 0.02986858, 0.05854241, 0.01911589]])"
      ]
     },
     "execution_count": 9,
     "metadata": {},
     "output_type": "execute_result"
    }
   ],
   "source": [
    "np.sum(key_distribution, axis=0, keepdims=True) / fileio.TOTAL_SIZE"
   ]
  },
  {
   "cell_type": "code",
   "execution_count": null,
   "metadata": {},
   "outputs": [],
   "source": []
  }
 ],
 "metadata": {
  "kernelspec": {
   "display_name": "Python 3",
   "language": "python",
   "name": "python3"
  },
  "language_info": {
   "codemirror_mode": {
    "name": "ipython",
    "version": 3
   },
   "file_extension": ".py",
   "mimetype": "text/x-python",
   "name": "python",
   "nbconvert_exporter": "python",
   "pygments_lexer": "ipython3",
   "version": "3.6.6"
  }
 },
 "nbformat": 4,
 "nbformat_minor": 2
}
