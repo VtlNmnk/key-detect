{
 "cells": [
  {
   "cell_type": "code",
   "execution_count": 1,
   "metadata": {},
   "outputs": [],
   "source": [
    "import numpy as np\n",
    "import pandas as pd\n",
    "import matplotlib.pyplot as plt\n",
    "import librosa\n",
    "import fileio\n",
    "import keys\n",
    "import full_model\n",
    "import torch\n",
    "import torch.nn as nn\n",
    "import torch.nn.functional as F\n",
    "import torch.optim as optim"
   ]
  },
  {
   "cell_type": "code",
   "execution_count": 2,
   "metadata": {},
   "outputs": [],
   "source": [
    "# To create genre-specific npz files (required for randomizing splits)\n",
    "#fileio.process_data_into_np_files()\n",
    "\n",
    "# To create 27 random splits, each of size 32. (Except the last one, data/working/splits/split_26.npz is only size 5)\n",
    "#fileio.create_random_splits() # Randomized with random.seed(1), so our splits will be identical\n",
    "\n",
    "# To load a range of splits\n",
    "#X, Y = fileio.load_splits(range(5)) # loads splits 0-4\n",
    "#X.shape = (fileio.NUM_SAMPLES_GTZAN, 5 * 32)\n",
    "#Y.shape = (24, 5 * 32)\n",
    "\n",
    "# To generate chroma, aligned with the splits\n",
    "#fileio.generate_chroma_splits_from_splits()\n",
    "\n",
    "# To load a range of chroma splits\n",
    "#X, Y = fileio.load_chroma_splits(range(5)) # loads chroma splits 0-4\n",
    "#X.shape = (300, 12, 5 * 32)\n",
    "#Y.shape = (24, 5 * 32)"
   ]
  },
  {
   "cell_type": "code",
   "execution_count": 3,
   "metadata": {},
   "outputs": [],
   "source": [
    "def get_scores(targets, guesses):\n",
    "    scores = []\n",
    "    \n",
    "    for idx in range(len(targets)):\n",
    "        scores.append(get_score_single(targets[idx], guesses[idx, :]))\n",
    "        \n",
    "    return scores\n",
    "    "
   ]
  },
  {
   "cell_type": "code",
   "execution_count": 4,
   "metadata": {},
   "outputs": [],
   "source": [
    "def get_score_single(target, guess):\n",
    "    scores = keys.get_vector_from_key(target) * 2\n",
    "    return scores[keys.generate_one_hot_guess(guess.data)]"
   ]
  },
  {
   "cell_type": "code",
   "execution_count": 5,
   "metadata": {},
   "outputs": [
    {
     "name": "stdout",
     "output_type": "stream",
     "text": [
      "Net(\n",
      "  (conv1): Conv1d(12, 32, kernel_size=(1,), stride=(1,))\n",
      "  (fc1): Linear(in_features=32, out_features=100, bias=True)\n",
      "  (fc2): Linear(in_features=100, out_features=24, bias=True)\n",
      ")\n",
      "epoch 0 loss: 3.1777231693267822\n",
      "Accuracy = 0.12203125\n",
      "epoch 100 loss: 3.024681568145752\n",
      "Accuracy = 0.32593750000000005\n",
      "epoch 200 loss: 2.808978319168091\n",
      "Accuracy = 0.5514062500000001\n",
      "epoch 300 loss: 2.7656826972961426\n",
      "Accuracy = 0.58078125\n",
      "epoch 400 loss: 2.7492055892944336\n",
      "Accuracy = 0.5865625\n",
      "epoch 500 loss: 2.7365546226501465\n",
      "Accuracy = 0.5932812500000001\n",
      "epoch 600 loss: 2.729646682739258\n",
      "Accuracy = 0.59359375\n",
      "epoch 700 loss: 2.7256698608398438\n",
      "Accuracy = 0.593125\n",
      "epoch 800 loss: 2.723574638366699\n",
      "Accuracy = 0.5939062500000001\n",
      "epoch 900 loss: 2.7223732471466064\n",
      "Accuracy = 0.5946875\n",
      "epoch 1000 loss: 2.721637487411499\n",
      "Accuracy = 0.5935937499999999\n",
      "epoch 1100 loss: 2.72031569480896\n",
      "Accuracy = 0.59578125\n",
      "epoch 1200 loss: 2.719661235809326\n",
      "Accuracy = 0.595\n",
      "epoch 1300 loss: 2.719283103942871\n",
      "Accuracy = 0.59453125\n",
      "epoch 1400 loss: 2.719029188156128\n",
      "Accuracy = 0.59453125\n",
      "epoch 1500 loss: 2.7188291549682617\n",
      "Accuracy = 0.5948437500000001\n",
      "epoch 1600 loss: 2.71867299079895\n",
      "Accuracy = 0.5953125\n",
      "epoch 1700 loss: 2.718541383743286\n",
      "Accuracy = 0.5959375\n",
      "epoch 1800 loss: 2.718421459197998\n",
      "Accuracy = 0.5962500000000001\n",
      "epoch 1900 loss: 2.7183361053466797\n",
      "Accuracy = 0.5956250000000001\n",
      "Done\n"
     ]
    }
   ],
   "source": [
    "import importlib\n",
    "\n",
    "importlib.reload(full_model)\n",
    "\n",
    "net = full_model.Net()\n",
    "print(net)\n",
    "\n",
    "X, Y = fileio.load_chroma_splits(range(20))\n",
    "X = torch.transpose(torch.from_numpy(X), 0, 2)\n",
    "Y = torch.from_numpy(keys.generate_one_hot_matrix(Y))\n",
    "\n",
    "X = X.float()\n",
    "Y = Y.long()\n",
    "\n",
    "criterion = nn.CrossEntropyLoss()\n",
    "optimizer = optim.Adam(net.parameters())\n",
    "\n",
    "for epoch in range(2000):\n",
    "    optimizer.zero_grad()\n",
    "    \n",
    "    Y_hat = net(X)\n",
    "    loss = criterion(Y_hat, Y)\n",
    "    loss.backward()\n",
    "    optimizer.step()\n",
    "    \n",
    "    if epoch % 100 == 0:\n",
    "        print('epoch ' + str(epoch) + ' loss: ' + str(loss.item()))\n",
    "        print('Accuracy = ' + str(np.mean(get_scores(Y, Y_hat))))\n",
    "        \n",
    "print('Done')"
   ]
  },
  {
   "cell_type": "code",
   "execution_count": 6,
   "metadata": {},
   "outputs": [
    {
     "data": {
      "text/plain": [
       "0.59546875"
      ]
     },
     "execution_count": 6,
     "metadata": {},
     "output_type": "execute_result"
    }
   ],
   "source": [
    "# Train accuracy\n",
    "np.mean(get_scores(Y, net(X)))"
   ]
  },
  {
   "cell_type": "code",
   "execution_count": 7,
   "metadata": {},
   "outputs": [
    {
     "data": {
      "text/plain": [
       "0.4888324873096447"
      ]
     },
     "execution_count": 7,
     "metadata": {},
     "output_type": "execute_result"
    }
   ],
   "source": [
    "# Test accuracy\n",
    "X, Y = fileio.load_chroma_splits(range(20,27))\n",
    "X = torch.transpose(torch.from_numpy(X), 0, 2)\n",
    "Y = torch.from_numpy(keys.generate_one_hot_matrix(Y))\n",
    "\n",
    "X = X.float()\n",
    "Y = Y.long()\n",
    "\n",
    "np.mean(get_scores(Y, net(X)))"
   ]
  },
  {
   "cell_type": "code",
   "execution_count": null,
   "metadata": {},
   "outputs": [],
   "source": []
  }
 ],
 "metadata": {
  "kernelspec": {
   "display_name": "Python 3",
   "language": "python",
   "name": "python3"
  },
  "language_info": {
   "codemirror_mode": {
    "name": "ipython",
    "version": 3
   },
   "file_extension": ".py",
   "mimetype": "text/x-python",
   "name": "python",
   "nbconvert_exporter": "python",
   "pygments_lexer": "ipython3",
   "version": "3.6.6"
  }
 },
 "nbformat": 4,
 "nbformat_minor": 2
}
