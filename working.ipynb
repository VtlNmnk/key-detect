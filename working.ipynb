{
 "cells": [
  {
   "cell_type": "code",
   "execution_count": 72,
   "metadata": {},
   "outputs": [],
   "source": [
    "import numpy as np\n",
    "import pandas as pd\n",
    "import matplotlib.pyplot as plt\n",
    "import audioread\n",
    "import os\n",
    "from glob import glob\n",
    "\n",
    "DATA_PREFIX = 'data/raw/'\n",
    "GTZAN_PREFIX = DATA_PREFIX + 'genres/'\n",
    "GTZAN_SUFFIX = '.au'\n",
    "KEY_FILE_PREFIX = DATA_PREFIX + 'gtzan_key-master/gtzan_key/genres/'\n",
    "KEY_FILE_SUFFIX = '.lerch.txt'\n",
    "\n",
    "FS_GTZAN = 22050\n",
    "LENGTH_GTZAN = 30\n",
    "NUM_SAMPLES_GTZAN = FS_GTZAN * LENGTH_GTZAN\n",
    "\n",
    "GENRES = ['country', 'pop', 'hiphop', 'reggae', 'classical', 'jazz', 'rock', 'blues', 'disco', 'metal']\n",
    "GENRE_SIZES = [99, 94, 81, 97, 0, 79, 98, 98, 98, 93]\n",
    "TOTAL_SIZE = np.sum(GENRE_SIZES)\n",
    "\n",
    "STRING_MAP = ['A\\tmajor',\n",
    "             'A#\\tmajor',\n",
    "             'B\\tmajor',\n",
    "             'C\\tmajor',\n",
    "             'C#\\tmajor',\n",
    "             'D\\tmajor',\n",
    "             'D#\\tmajor',\n",
    "             'E\\tmajor',\n",
    "             'F\\tmajor',\n",
    "             'F#\\tmajor',\n",
    "             'G\\tmajor',\n",
    "             'G#\\tmajor',\n",
    "             'A\\tminor',\n",
    "             'A#\\tminor',\n",
    "             'B\\tminor',\n",
    "             'C\\tminor',\n",
    "             'C#\\tminor',\n",
    "             'D\\tminor',\n",
    "             'D#\\tminor',\n",
    "             'E\\tminor',\n",
    "             'F\\tminor',\n",
    "             'F#\\tminor',\n",
    "             'G\\tminor',\n",
    "             'G#\\tminor']\n"
   ]
  },
  {
   "cell_type": "code",
   "execution_count": 53,
   "metadata": {},
   "outputs": [],
   "source": [
    "def get_vector_from_key(key):\n",
    "    vector = np.zeros(24)\n",
    "    if key == -1: # Unknown\n",
    "        return vector\n",
    "    if key < 12: #major\n",
    "        vector[key] = 1\n",
    "        vector[(key + 7) % 12] = 0.5\n",
    "        vector[(key + 9) % 12 + 12] = 0.3\n",
    "        vector[key + 12] = 0.2\n",
    "    else: # minor\n",
    "        vector[key] = 1\n",
    "        vector[(key + 7) % 12 + 12] = 0.5\n",
    "        vector[(key + 3) % 12] = 0.3\n",
    "        vector[key - 12] = 0.2\n",
    "        \n",
    "    vector /= 2\n",
    "    \n",
    "    return vector"
   ]
  },
  {
   "cell_type": "code",
   "execution_count": 54,
   "metadata": {},
   "outputs": [],
   "source": [
    "def get_string_from_vector(vector):\n",
    "    return STRING_MAP[np.argmax(vector)]"
   ]
  },
  {
   "cell_type": "code",
   "execution_count": 55,
   "metadata": {},
   "outputs": [],
   "source": [
    "def generate_one_hot_guess(vector):\n",
    "    return np.argmax(vector)"
   ]
  },
  {
   "cell_type": "code",
   "execution_count": 56,
   "metadata": {},
   "outputs": [],
   "source": [
    "def read_audio(infile):\n",
    "    # Input: file name (including path) to read as audio, any format, probably\n",
    "    # Output: fs, audio_data\n",
    "    #        fs = sample rate, in Hz\n",
    "    #        audio_data = numpy array containing each sample's value as a 16-bit signed integer\n",
    "    with audioread.audio_open(infile) as f:\n",
    "        fs = f.samplerate\n",
    "        audio_data = []\n",
    "        for buf in f:\n",
    "            audio_data.extend(np.frombuffer(buf, dtype='<i2'))\n",
    "        audio_data = np.array(audio_data)\n",
    "        return fs, audio_data"
   ]
  },
  {
   "cell_type": "code",
   "execution_count": 57,
   "metadata": {},
   "outputs": [],
   "source": [
    "def read_data(file):\n",
    "    # Input: file name (relative to 'genres') directory, do read data from\n",
    "    # Output: fs, audio_data, y\n",
    "    #        fs = sample rate, in Hz *FROM read_audio method, above.\n",
    "    #        audio_data = numpy array containing each sample's value as a 16-bit signed integer *FROM read_audio method, above\n",
    "    #        y = normalized ground truth scoring vector for the given file *FROM get_vector_from_key method, above.\n",
    "    y = get_vector_from_key(int(open(KEY_FILE_PREFIX + file + KEY_FILE_SUFFIX, 'r').read()))\n",
    "    y = np.reshape(y, (24, 1))\n",
    "    fs, audio_data = read_audio(GTZAN_PREFIX + file + GTZAN_SUFFIX)\n",
    "    audio_data = np.reshape(audio_data, (len(audio_data), 1))\n",
    "    return fs, audio_data, y"
   ]
  },
  {
   "cell_type": "code",
   "execution_count": 58,
   "metadata": {},
   "outputs": [],
   "source": [
    "def load_all_data(directory):\n",
    "    # Read all music files, and return them in arrays.\n",
    "    # Output: fs, audio_data, keys\n",
    "    #        fs = num_files length array, containing sample rate of each\n",
    "    #        X = [num_samples, num_files] size matrix, containing the audio data\n",
    "    #        Y = [24, num_files] size matrix, containing the key vect\n",
    "    file_list = [y for x in os.walk(directory) for y in glob(os.path.join(x[0], '*' + GTZAN_SUFFIX))]\n",
    "    fs = np.zeros(0)\n",
    "    X = np.zeros((NUM_SAMPLES_GTZAN, 0))\n",
    "    Y = np.zeros((24, 0))\n",
    "    file_num = 0\n",
    "    for file in file_list:\n",
    "        if file_num % 10 == 0:\n",
    "            print('Loading File ' + str(file_num) + '/' + str(len(file_list)))\n",
    "        file_num += 1\n",
    "        \n",
    "        _, file_name = file.split('genres/')\n",
    "        fs1, audio_data1, y1 = read_data(file_name[:-len(GTZAN_SUFFIX)])\n",
    "        \n",
    "        if np.sum(y1) == 0:\n",
    "            print('WARNING: key unknown/modulation, skipping: file=' + file_name)\n",
    "            continue\n",
    "            \n",
    "        if fs1 != FS_GTZAN:\n",
    "            print('WARNING: sample rate not 22050 Hz, instead ' + str(fs1))\n",
    "            \n",
    "        fs = np.append(fs, fs1)\n",
    "        \n",
    "        if audio_data1.shape[0] != X.shape[0]:\n",
    "            length_to_save = min(X.shape[0], audio_data1.shape[0])\n",
    "            new_audio_data1 = np.zeros((X.shape[0], 1))\n",
    "            new_audio_data1[:length_to_save, 0] = audio_data1[:length_to_save, 0]\n",
    "            audio_data1 = new_audio_data1\n",
    "        X = np.append(X, audio_data1, axis=1)\n",
    "        \n",
    "        Y = np.append(Y, y1, axis=1)\n",
    "        \n",
    "    return fs, X, Y\n",
    "        "
   ]
  },
  {
   "cell_type": "code",
   "execution_count": 59,
   "metadata": {},
   "outputs": [],
   "source": [
    "def write_np_data(fs, X, Y, prefix):\n",
    "    np.savez_compressed('data/working/' + prefix + '.npz', fs=fs, X=X, Y=Y)"
   ]
  },
  {
   "cell_type": "code",
   "execution_count": 60,
   "metadata": {},
   "outputs": [],
   "source": [
    "def load_np_data(prefix):\n",
    "    loaded = np.load('data/working/' + prefix + '.npz')\n",
    "    \n",
    "    return loaded['fs'], loaded['X'], loaded['Y']"
   ]
  },
  {
   "cell_type": "code",
   "execution_count": 75,
   "metadata": {},
   "outputs": [],
   "source": [
    "def process_data_into_np_files():\n",
    "    for genre in GENRES:\n",
    "        print(genre)\n",
    "        fs, X, Y = load_all_data('data/raw/genres/' + genre)\n",
    "        write_data(fs, X, Y, genre)"
   ]
  },
  {
   "cell_type": "code",
   "execution_count": 76,
   "metadata": {},
   "outputs": [],
   "source": [
    "def get_normalized_X(X):\n",
    "    return X / 32768. #32768 is max 16-bit signed int"
   ]
  },
  {
   "cell_type": "code",
   "execution_count": 170,
   "metadata": {},
   "outputs": [],
   "source": [
    "def get_genre_and_song_idx_given_idx(idx, inclusive=True):\n",
    "    if idx >= TOTAL_SIZE:\n",
    "        if inclusive:\n",
    "            return len(GENRE_SIZES) - 1, GENRE_SIZES[-1] - 1\n",
    "        else:\n",
    "            return len(GENRE_SIZES) - 1, GENRE_SIZES[-1]\n",
    "        \n",
    "    if idx <= 0:\n",
    "        return 0, 0\n",
    "    \n",
    "    if not inclusive:\n",
    "        genre_idx, song_idx = get_genre_and_song_idx_given_idx(idx - 1)\n",
    "        return genre_idx, song_idx + 1\n",
    "    \n",
    "    for genre_idx in range(len(GENRES)):\n",
    "        genre_size = GENRE_SIZES[genre_idx]\n",
    "        genre_start_idx = int(np.sum(GENRE_SIZES[:genre_idx]))\n",
    "        \n",
    "        if genre_start_idx + genre_size > idx:\n",
    "            return genre_idx, idx - genre_start_idx\n",
    "    \n",
    "    return len(GENRE_SIZES) - 1, GENRE_SIZES[-1]"
   ]
  },
  {
   "cell_type": "code",
   "execution_count": 183,
   "metadata": {},
   "outputs": [],
   "source": [
    "def load_from_range(from_idx, to_idx):\n",
    "    # Load the sample from a given index (inclusive) to a given index (exclusive)\n",
    "    from_genre_idx, from_song_idx = get_genre_and_song_idx_given_idx(from_idx)\n",
    "    to_genre_idx, to_song_idx = get_genre_and_song_idx_given_idx(to_idx, inclusive=False)\n",
    "    \n",
    "    #print('loading from ' + str((from_genre_idx, from_song_idx)) + ' to ' + str((to_genre_idx, to_song_idx)))\n",
    "    \n",
    "    fs = np.zeros(0)\n",
    "    X = np.zeros((NUM_SAMPLES_GTZAN, 0))\n",
    "    Y = np.zeros((24, 0))\n",
    "    \n",
    "    for genre_idx in range(from_genre_idx, to_genre_idx + 1):\n",
    "        genre_fs, genre_X, genre_Y = load_np_data(GENRES[genre_idx])\n",
    "        \n",
    "        to = genre_X.shape[1]\n",
    "        if to_genre_idx == genre_idx:\n",
    "            to = to_song_idx\n",
    "            \n",
    "        fs = np.append(fs, genre_fs[from_song_idx:to])\n",
    "        X = np.append(X, genre_X[:, from_song_idx:to], axis=1)\n",
    "        Y = np.append(Y, genre_Y[:, from_song_idx:to], axis=1)\n",
    "        \n",
    "        from_song_idx = 0\n",
    "    \n",
    "    return fs, X, Y"
   ]
  },
  {
   "cell_type": "code",
   "execution_count": 184,
   "metadata": {},
   "outputs": [],
   "source": [
    "def load_song_by_idx(idx):\n",
    "    return load_from_range(idx, idx + 1)"
   ]
  },
  {
   "cell_type": "code",
   "execution_count": null,
   "metadata": {},
   "outputs": [],
   "source": []
  }
 ],
 "metadata": {
  "kernelspec": {
   "display_name": "Python 3",
   "language": "python",
   "name": "python3"
  },
  "language_info": {
   "codemirror_mode": {
    "name": "ipython",
    "version": 3
   },
   "file_extension": ".py",
   "mimetype": "text/x-python",
   "name": "python",
   "nbconvert_exporter": "python",
   "pygments_lexer": "ipython3",
   "version": "3.6.6"
  }
 },
 "nbformat": 4,
 "nbformat_minor": 2
}
