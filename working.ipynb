{
 "cells": [
  {
   "cell_type": "code",
   "execution_count": 1,
   "metadata": {},
   "outputs": [],
   "source": [
    "import numpy as np\n",
    "import pandas as pd\n",
    "import matplotlib.pyplot as plt\n",
    "import librosa\n",
    "import fileio"
   ]
  },
  {
   "cell_type": "code",
   "execution_count": 2,
   "metadata": {},
   "outputs": [],
   "source": [
    "STRING_MAP = ['A\\tmajor',\n",
    "             'A#\\tmajor',\n",
    "             'B\\tmajor',\n",
    "             'C\\tmajor',\n",
    "             'C#\\tmajor',\n",
    "             'D\\tmajor',\n",
    "             'D#\\tmajor',\n",
    "             'E\\tmajor',\n",
    "             'F\\tmajor',\n",
    "             'F#\\tmajor',\n",
    "             'G\\tmajor',\n",
    "             'G#\\tmajor',\n",
    "             'A\\tminor',\n",
    "             'A#\\tminor',\n",
    "             'B\\tminor',\n",
    "             'C\\tminor',\n",
    "             'C#\\tminor',\n",
    "             'D\\tminor',\n",
    "             'D#\\tminor',\n",
    "             'E\\tminor',\n",
    "             'F\\tminor',\n",
    "             'F#\\tminor',\n",
    "             'G\\tminor',\n",
    "             'G#\\tminor']\n",
    "\n",
    "def get_string_from_vector(vector):\n",
    "    return STRING_MAP[np.argmax(vector)]\n",
    "\n",
    "def generate_one_hot_guess(vector):\n",
    "    return np.argmax(vector)"
   ]
  },
  {
   "cell_type": "code",
   "execution_count": 8,
   "metadata": {},
   "outputs": [],
   "source": [
    "# To create genre-specific npz files (required for randomizing splits)\n",
    "#fileio.process_data_into_np_files()\n",
    "\n",
    "# To create 27 random splits, each of size 32. (Except the last one, data/working/splits/split_26.npz is only size 5)\n",
    "#fileio.create_random_splits() # Randomized with random.seed(1), so our splits will be identical\n",
    "\n",
    "# To load a range of splits\n",
    "#X, Y = fileio.load_splits(range(5)) # loads splits 0-4\n",
    "#X.shape = (fileio.NUM_SAMPLES_GTZAN, 5 * 32)\n",
    "#Y.shape = (24, 5 * 32)\n",
    "\n",
    "# To generate chroma, aligned with the splits\n",
    "#fileio.generate_chroma_splits_from_splits()\n",
    "\n",
    "# To load a range of chroma splits\n",
    "#X, Y = fileio.load_chroma_splits(range(5)) # loads chroma splits 0-4\n",
    "#X.shape = (300, 12, 5 * 32)\n",
    "#Y.shape = (24, 5 * 32)"
   ]
  },
  {
   "cell_type": "code",
   "execution_count": null,
   "metadata": {},
   "outputs": [],
   "source": [
    "key_distribution = np.zeros((len(fileio.GENRES), 24))\n",
    "\n",
    "for idx in range(len(fileio.GENRES)):\n",
    "    genre = fileio.GENRES[idx]\n",
    "    offset = int(np.sum(fileio.GENRE_SIZES[:idx]))\n",
    "    \n",
    "    _, Y = fileio.load_from_range(offset, offset + fileio.GENRE_SIZES[idx])\n",
    "    \n",
    "    print(genre)\n",
    "    print(np.sum((Y == 0.5), axis=1, keepdims=True).T)\n",
    "    \n",
    "    key_distribution[idx, :] = np.sum((Y == 0.5), axis=1, keepdims=True).T"
   ]
  },
  {
   "cell_type": "code",
   "execution_count": null,
   "metadata": {},
   "outputs": [],
   "source": [
    "key_distribution"
   ]
  },
  {
   "cell_type": "code",
   "execution_count": null,
   "metadata": {},
   "outputs": [],
   "source": [
    "np.sum(key_distribution, axis=0, keepdims=True) / fileio.TOTAL_SIZE"
   ]
  },
  {
   "cell_type": "code",
   "execution_count": 3,
   "metadata": {},
   "outputs": [
    {
     "name": "stdout",
     "output_type": "stream",
     "text": [
      "Generating from split 0/26\n",
      "Generating from split 1/26\n",
      "Generating from split 2/26\n",
      "Generating from split 3/26\n",
      "Generating from split 4/26\n",
      "Generating from split 5/26\n",
      "Generating from split 6/26\n",
      "Generating from split 7/26\n",
      "Generating from split 8/26\n",
      "Generating from split 9/26\n",
      "Generating from split 10/26\n",
      "Generating from split 11/26\n",
      "Generating from split 12/26\n",
      "Generating from split 13/26\n",
      "Generating from split 14/26\n",
      "Generating from split 15/26\n",
      "Generating from split 16/26\n",
      "Generating from split 17/26\n",
      "Generating from split 18/26\n",
      "Generating from split 19/26\n",
      "Generating from split 20/26\n",
      "Generating from split 21/26\n",
      "Generating from split 22/26\n",
      "Generating from split 23/26\n",
      "Generating from split 24/26\n",
      "Generating from split 25/26\n",
      "Generating from split 26/26\n"
     ]
    }
   ],
   "source": [
    "fileio.generate_chroma_splits_from_splits()"
   ]
  },
  {
   "cell_type": "code",
   "execution_count": null,
   "metadata": {},
   "outputs": [],
   "source": []
  }
 ],
 "metadata": {
  "kernelspec": {
   "display_name": "Python 3",
   "language": "python",
   "name": "python3"
  },
  "language_info": {
   "codemirror_mode": {
    "name": "ipython",
    "version": 3
   },
   "file_extension": ".py",
   "mimetype": "text/x-python",
   "name": "python",
   "nbconvert_exporter": "python",
   "pygments_lexer": "ipython3",
   "version": "3.6.6"
  }
 },
 "nbformat": 4,
 "nbformat_minor": 2
}
