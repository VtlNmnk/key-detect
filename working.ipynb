{
 "cells": [
  {
   "cell_type": "code",
   "execution_count": null,
   "metadata": {},
   "outputs": [],
   "source": [
    "import numpy as np\n",
    "import pandas as pd\n",
    "import matplotlib.pyplot as plt\n",
    "import librosa\n",
    "import fileio\n",
    "import keys\n",
    "import full_model\n",
    "import data_aug\n",
    "import torch\n",
    "import torch.nn as nn\n",
    "import torch.nn.functional as F\n",
    "import torch.optim as optim"
   ]
  },
  {
   "cell_type": "code",
   "execution_count": null,
   "metadata": {},
   "outputs": [],
   "source": [
    "# To create genre-specific npz files (required for randomizing splits)\n",
    "#fileio.process_data_into_np_files()\n",
    "\n",
    "# To create 27 random splits, each of size 32. (Except the last one, data/working/splits/split_26.npz is only size 5)\n",
    "#fileio.create_random_splits() # Randomized with random.seed(1), so our splits will be identical\n",
    "\n",
    "# To load a range of splits\n",
    "#X, Y = fileio.load_splits(range(5)) # loads splits 0-4\n",
    "#X.shape = (fileio.NUM_SAMPLES, 5 * 32)\n",
    "#Y.shape = (24, 5 * 32)\n",
    "\n",
    "# To generate chroma, aligned with the splits\n",
    "#fileio.generate_chroma_splits_from_splits()\n",
    "\n",
    "# To load a range of chroma splits\n",
    "#X, Y = fileio.load_chroma_splits(range(5)) # loads chroma splits 0-4\n",
    "#X.shape = (300, 12, 5 * 32)\n",
    "#Y.shape = (24, 5 * 32)"
   ]
  },
  {
   "cell_type": "code",
   "execution_count": null,
   "metadata": {},
   "outputs": [],
   "source": [
    "def get_scores(targets, guesses):\n",
    "    scores = []\n",
    "    \n",
    "    for idx in range(len(targets)):\n",
    "        scores.append(get_score_single(targets[idx], guesses[idx, :]))\n",
    "        \n",
    "    return scores\n",
    "    "
   ]
  },
  {
   "cell_type": "code",
   "execution_count": null,
   "metadata": {},
   "outputs": [],
   "source": [
    "def get_score_single(target, guess):\n",
    "    scores = keys.get_vector_from_key(target) * 2\n",
    "    return scores[keys.generate_one_hot_guess(guess.data)]"
   ]
  },
  {
   "cell_type": "code",
   "execution_count": null,
   "metadata": {},
   "outputs": [],
   "source": [
    "def load_torch_data_from_matrices(X, Y):\n",
    "    X = torch.transpose(torch.from_numpy(X), 0, 2)\n",
    "    Y = torch.from_numpy(keys.generate_one_hot_matrix(Y))\n",
    "\n",
    "    X = X.float()\n",
    "    Y = Y.long()\n",
    "    \n",
    "    return X, Y"
   ]
  },
  {
   "cell_type": "code",
   "execution_count": null,
   "metadata": {},
   "outputs": [],
   "source": [
    "import importlib\n",
    "\n",
    "importlib.reload(full_model)\n",
    "\n",
    "net = full_model.ShallowConvNet()\n",
    "print(net)\n",
    "\n",
    "X_test, Y_test = fileio.load_chroma_splits(range(20,27))\n",
    "X_test, Y_test = load_torch_data_from_matrices(X_test, Y_test)\n",
    "\n",
    "X, Y = fileio.load_chroma_splits(range(20))\n",
    "X, Y = load_torch_data_from_matrices(X, Y)\n",
    "\n",
    "criterion = nn.CrossEntropyLoss()\n",
    "optimizer = optim.Adam(net.parameters(), lr=0.05)\n",
    "\n",
    "for epoch in range(2000):\n",
    "    optimizer.zero_grad()\n",
    "    \n",
    "    Y_hat = net(X)\n",
    "    loss = criterion(Y_hat, Y)\n",
    "    loss.backward()\n",
    "    optimizer.step()\n",
    "    \n",
    "    if epoch % 100 == 0:\n",
    "        print('epoch ' + str(epoch) + ' loss: ' + str(loss.item()))\n",
    "        print('Train accuracy = ' + str(np.mean(get_scores(Y, Y_hat))))\n",
    "        print('Test accuracy = ' + str(np.mean(get_scores(Y_test, net(X_test)))))\n",
    "        \n",
    "print('Done')"
   ]
  },
  {
   "cell_type": "code",
   "execution_count": null,
   "metadata": {},
   "outputs": [],
   "source": [
    "# Train accuracy\n",
    "np.mean(get_scores(Y, net(X)))"
   ]
  },
  {
   "cell_type": "code",
   "execution_count": null,
   "metadata": {},
   "outputs": [],
   "source": [
    "# Test accuracy\n",
    "X, Y = fileio.load_chroma_splits(range(20,27))\n",
    "X, Y = load_torch_data_from_matrices(X, Y)\n",
    "\n",
    "np.mean(get_scores(Y, net(X)))"
   ]
  },
  {
   "cell_type": "code",
   "execution_count": null,
   "metadata": {},
   "outputs": [],
   "source": [
    "# Data aug example:\n",
    "import data_aug\n",
    "\n",
    "X, Y = fileio.load_from_range(0, 2) # Loads 2 pieces\n",
    "# X.shape == [..., 2], Y.shape == [24, 2]\n",
    "X_shifted, Y_shifted = data_aug.pitch_and_tempo_shift_all(X, Y, range(-4, 8), [0.9, 1.0, 1.1]) # Shifts both pieces -4 to +7 semitones and time warped at the given rates\n",
    "# X_shifted.shape == [..., 72], Y_shifted.shape == [24, 72]"
   ]
  },
  {
   "cell_type": "code",
   "execution_count": null,
   "metadata": {},
   "outputs": [],
   "source": [
    "cqt = librosa.core.hybrid_cqt(X, bins_per_octave=24, n_bins=168)"
   ]
  },
  {
   "cell_type": "code",
   "execution_count": null,
   "metadata": {},
   "outputs": [],
   "source": [
    "cqt.shape"
   ]
  },
  {
   "cell_type": "code",
   "execution_count": null,
   "metadata": {},
   "outputs": [],
   "source": [
    "plt.imshow(np.log(cqt))\n",
    "plt.show()"
   ]
  },
  {
   "cell_type": "code",
   "execution_count": null,
   "metadata": {},
   "outputs": [],
   "source": []
  }
 ],
 "metadata": {
  "kernelspec": {
   "display_name": "Python 3",
   "language": "python",
   "name": "python3"
  },
  "language_info": {
   "codemirror_mode": {
    "name": "ipython",
    "version": 3
   },
   "file_extension": ".py",
   "mimetype": "text/x-python",
   "name": "python",
   "nbconvert_exporter": "python",
   "pygments_lexer": "ipython3",
   "version": "3.6.6"
  }
 },
 "nbformat": 4,
 "nbformat_minor": 2
}
