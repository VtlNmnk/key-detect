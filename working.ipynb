{
 "cells": [
  {
   "cell_type": "code",
   "execution_count": 1,
   "metadata": {},
   "outputs": [],
   "source": [
    "import numpy as np\n",
    "import pandas as pd\n",
    "import matplotlib.pyplot as plt\n",
    "import librosa\n",
    "import fileio\n",
    "import keys\n",
    "import full_model\n",
    "import data_aug\n",
    "import torch\n",
    "import torch.nn as nn\n",
    "import torch.nn.functional as F\n",
    "import torch.optim as optim"
   ]
  },
  {
   "cell_type": "code",
   "execution_count": 2,
   "metadata": {},
   "outputs": [],
   "source": [
    "# To create genre-specific npz files (required for randomizing splits)\n",
    "#fileio.process_data_into_np_files()\n",
    "\n",
    "# To create 27 random splits, each of size 32. (Except the last one, data/working/splits/split_26.npz is only size 5)\n",
    "#fileio.create_random_splits() # Randomized with random.seed(1), so our splits will be identical\n",
    "\n",
    "# To load a range of splits\n",
    "#X, Y = fileio.load_splits(range(5)) # loads splits 0-4\n",
    "#X.shape = (fileio.NUM_SAMPLES_GTZAN, 5 * 32)\n",
    "#Y.shape = (24, 5 * 32)\n",
    "\n",
    "# To generate chroma, aligned with the splits\n",
    "#fileio.generate_chroma_splits_from_splits()\n",
    "\n",
    "# To load a range of chroma splits\n",
    "#X, Y = fileio.load_chroma_splits(range(5)) # loads chroma splits 0-4\n",
    "#X.shape = (300, 12, 5 * 32)\n",
    "#Y.shape = (24, 5 * 32)"
   ]
  },
  {
   "cell_type": "code",
   "execution_count": 3,
   "metadata": {},
   "outputs": [],
   "source": [
    "def get_scores(targets, guesses):\n",
    "    scores = []\n",
    "    \n",
    "    for idx in range(len(targets)):\n",
    "        scores.append(get_score_single(targets[idx], guesses[idx, :]))\n",
    "        \n",
    "    return scores\n",
    "    "
   ]
  },
  {
   "cell_type": "code",
   "execution_count": 4,
   "metadata": {},
   "outputs": [],
   "source": [
    "def get_score_single(target, guess):\n",
    "    scores = keys.get_vector_from_key(target) * 2\n",
    "    return scores[keys.generate_one_hot_guess(guess.data)]"
   ]
  },
  {
   "cell_type": "code",
   "execution_count": 5,
   "metadata": {},
   "outputs": [],
   "source": [
    "def load_torch_data_from_matrices(X, Y):\n",
    "    X = torch.transpose(torch.from_numpy(X), 0, 2)\n",
    "    Y = torch.from_numpy(keys.generate_one_hot_matrix(Y))\n",
    "\n",
    "    X = X.float()\n",
    "    Y = Y.long()\n",
    "    \n",
    "    return X, Y"
   ]
  },
  {
   "cell_type": "code",
   "execution_count": 6,
   "metadata": {},
   "outputs": [
    {
     "name": "stdout",
     "output_type": "stream",
     "text": [
      "ShallowConvNet(\n",
      "  (conv1): Conv1d(12, 24, kernel_size=(1,), stride=(1,))\n",
      ")\n",
      "epoch 0 loss: 3.1772713661193848\n",
      "Train accuracy = 0.097625\n",
      "Test accuracy = 0.1352284263959391\n",
      "epoch 100 loss: 2.7667272090911865\n",
      "Train accuracy = 0.54025\n",
      "Test accuracy = 0.4958375634517767\n",
      "epoch 200 loss: 2.7130470275878906\n",
      "Train accuracy = 0.548\n",
      "Test accuracy = 0.5104568527918781\n"
     ]
    },
    {
     "ename": "KeyboardInterrupt",
     "evalue": "",
     "output_type": "error",
     "traceback": [
      "\u001b[0;31m---------------------------------------------------------------------------\u001b[0m",
      "\u001b[0;31mKeyboardInterrupt\u001b[0m                         Traceback (most recent call last)",
      "\u001b[0;32m<ipython-input-6-c22507ca7984>\u001b[0m in \u001b[0;36m<module>\u001b[0;34m()\u001b[0m\n\u001b[1;32m     20\u001b[0m     \u001b[0mY_hat\u001b[0m \u001b[0;34m=\u001b[0m \u001b[0mnet\u001b[0m\u001b[0;34m(\u001b[0m\u001b[0mX\u001b[0m\u001b[0;34m)\u001b[0m\u001b[0;34m\u001b[0m\u001b[0m\n\u001b[1;32m     21\u001b[0m     \u001b[0mloss\u001b[0m \u001b[0;34m=\u001b[0m \u001b[0mcriterion\u001b[0m\u001b[0;34m(\u001b[0m\u001b[0mY_hat\u001b[0m\u001b[0;34m,\u001b[0m \u001b[0mY\u001b[0m\u001b[0;34m)\u001b[0m\u001b[0;34m\u001b[0m\u001b[0m\n\u001b[0;32m---> 22\u001b[0;31m     \u001b[0mloss\u001b[0m\u001b[0;34m.\u001b[0m\u001b[0mbackward\u001b[0m\u001b[0;34m(\u001b[0m\u001b[0;34m)\u001b[0m\u001b[0;34m\u001b[0m\u001b[0m\n\u001b[0m\u001b[1;32m     23\u001b[0m     \u001b[0moptimizer\u001b[0m\u001b[0;34m.\u001b[0m\u001b[0mstep\u001b[0m\u001b[0;34m(\u001b[0m\u001b[0;34m)\u001b[0m\u001b[0;34m\u001b[0m\u001b[0m\n\u001b[1;32m     24\u001b[0m \u001b[0;34m\u001b[0m\u001b[0m\n",
      "\u001b[0;32m~/miniconda3/envs/key/lib/python3.6/site-packages/torch/tensor.py\u001b[0m in \u001b[0;36mbackward\u001b[0;34m(self, gradient, retain_graph, create_graph)\u001b[0m\n\u001b[1;32m     91\u001b[0m                 \u001b[0mproducts\u001b[0m\u001b[0;34m.\u001b[0m \u001b[0mDefaults\u001b[0m \u001b[0mto\u001b[0m\u001b[0;31m \u001b[0m\u001b[0;31m`\u001b[0m\u001b[0;31m`\u001b[0m\u001b[0;32mFalse\u001b[0m\u001b[0;31m`\u001b[0m\u001b[0;31m`\u001b[0m\u001b[0;34m.\u001b[0m\u001b[0;34m\u001b[0m\u001b[0m\n\u001b[1;32m     92\u001b[0m         \"\"\"\n\u001b[0;32m---> 93\u001b[0;31m         \u001b[0mtorch\u001b[0m\u001b[0;34m.\u001b[0m\u001b[0mautograd\u001b[0m\u001b[0;34m.\u001b[0m\u001b[0mbackward\u001b[0m\u001b[0;34m(\u001b[0m\u001b[0mself\u001b[0m\u001b[0;34m,\u001b[0m \u001b[0mgradient\u001b[0m\u001b[0;34m,\u001b[0m \u001b[0mretain_graph\u001b[0m\u001b[0;34m,\u001b[0m \u001b[0mcreate_graph\u001b[0m\u001b[0;34m)\u001b[0m\u001b[0;34m\u001b[0m\u001b[0m\n\u001b[0m\u001b[1;32m     94\u001b[0m \u001b[0;34m\u001b[0m\u001b[0m\n\u001b[1;32m     95\u001b[0m     \u001b[0;32mdef\u001b[0m \u001b[0mregister_hook\u001b[0m\u001b[0;34m(\u001b[0m\u001b[0mself\u001b[0m\u001b[0;34m,\u001b[0m \u001b[0mhook\u001b[0m\u001b[0;34m)\u001b[0m\u001b[0;34m:\u001b[0m\u001b[0;34m\u001b[0m\u001b[0m\n",
      "\u001b[0;32m~/miniconda3/envs/key/lib/python3.6/site-packages/torch/autograd/__init__.py\u001b[0m in \u001b[0;36mbackward\u001b[0;34m(tensors, grad_tensors, retain_graph, create_graph, grad_variables)\u001b[0m\n\u001b[1;32m     87\u001b[0m     Variable._execution_engine.run_backward(\n\u001b[1;32m     88\u001b[0m         \u001b[0mtensors\u001b[0m\u001b[0;34m,\u001b[0m \u001b[0mgrad_tensors\u001b[0m\u001b[0;34m,\u001b[0m \u001b[0mretain_graph\u001b[0m\u001b[0;34m,\u001b[0m \u001b[0mcreate_graph\u001b[0m\u001b[0;34m,\u001b[0m\u001b[0;34m\u001b[0m\u001b[0m\n\u001b[0;32m---> 89\u001b[0;31m         allow_unreachable=True)  # allow_unreachable flag\n\u001b[0m\u001b[1;32m     90\u001b[0m \u001b[0;34m\u001b[0m\u001b[0m\n\u001b[1;32m     91\u001b[0m \u001b[0;34m\u001b[0m\u001b[0m\n",
      "\u001b[0;31mKeyboardInterrupt\u001b[0m: "
     ]
    }
   ],
   "source": [
    "import importlib\n",
    "\n",
    "importlib.reload(full_model)\n",
    "\n",
    "net = full_model.ShallowConvNet()\n",
    "print(net)\n",
    "\n",
    "X_test, Y_test = fileio.load_chroma_splits(range(20,27))\n",
    "X_test, Y_test = load_torch_data_from_matrices(X_test, Y_test)\n",
    "\n",
    "X, Y = fileio.load_chroma_splits(range(20))\n",
    "X, Y = load_torch_data_from_matrices(X, Y)\n",
    "\n",
    "criterion = nn.CrossEntropyLoss()\n",
    "optimizer = optim.Adam(net.parameters(), lr=0.05)\n",
    "\n",
    "for epoch in range(2000):\n",
    "    optimizer.zero_grad()\n",
    "    \n",
    "    Y_hat = net(X)\n",
    "    loss = criterion(Y_hat, Y)\n",
    "    loss.backward()\n",
    "    optimizer.step()\n",
    "    \n",
    "    if epoch % 100 == 0:\n",
    "        print('epoch ' + str(epoch) + ' loss: ' + str(loss.item()))\n",
    "        print('Train accuracy = ' + str(np.mean(get_scores(Y, Y_hat))))\n",
    "        print('Test accuracy = ' + str(np.mean(get_scores(Y_test, net(X_test)))))\n",
    "        \n",
    "print('Done')"
   ]
  },
  {
   "cell_type": "code",
   "execution_count": null,
   "metadata": {},
   "outputs": [],
   "source": [
    "# Train accuracy\n",
    "np.mean(get_scores(Y, net(X)))"
   ]
  },
  {
   "cell_type": "code",
   "execution_count": null,
   "metadata": {},
   "outputs": [],
   "source": [
    "# Test accuracy\n",
    "X, Y = fileio.load_chroma_splits(range(20,27))\n",
    "X, Y = load_torch_data_from_matrices(X, Y)\n",
    "\n",
    "np.mean(get_scores(Y, net(X)))"
   ]
  },
  {
   "cell_type": "code",
   "execution_count": 94,
   "metadata": {},
   "outputs": [],
   "source": [
    "# Data aug example:\n",
    "import data_aug\n",
    "\n",
    "X, Y = fileio.load_from_range(0, 2) # Loads 2 pieces\n",
    "# X.shape == [..., 2], Y.shape == [24, 2]\n",
    "X_shifted, Y_shifted = data_aug.pitch_shift_all(X, Y, range(-4, 8)) # Shifts both pieces -4 to +7 semitones\n",
    "# X_shifted.shape == [..., 24], Y.shape == [24, 24]"
   ]
  },
  {
   "cell_type": "code",
   "execution_count": null,
   "metadata": {},
   "outputs": [],
   "source": []
  }
 ],
 "metadata": {
  "kernelspec": {
   "display_name": "Python 3",
   "language": "python",
   "name": "python3"
  },
  "language_info": {
   "codemirror_mode": {
    "name": "ipython",
    "version": 3
   },
   "file_extension": ".py",
   "mimetype": "text/x-python",
   "name": "python",
   "nbconvert_exporter": "python",
   "pygments_lexer": "ipython3",
   "version": "3.6.6"
  }
 },
 "nbformat": 4,
 "nbformat_minor": 2
}
