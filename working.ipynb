{
 "cells": [
  {
   "cell_type": "code",
   "execution_count": 1,
   "metadata": {},
   "outputs": [],
   "source": [
    "import numpy as np\n",
    "import pandas as pd\n",
    "import matplotlib.pyplot as plt\n",
    "import audioread\n",
    "\n",
    "DATA_PREFIX = 'data/raw/'\n",
    "GTZAN_PREFIX = DATA_PREFIX + 'genres/'\n",
    "GTZAN_SUFFIX = '.au'\n",
    "KEY_FILE_PREFIX = DATA_PREFIX + 'gtzan_key-master/gtzan_key/genres/'\n",
    "KEY_FILE_SUFFIX = '.lerch.txt'\n",
    "\n",
    "STRING_MAP = ['A\\tmajor',\n",
    "             'A#\\tmajor',\n",
    "             'B\\tmajor',\n",
    "             'C\\tmajor',\n",
    "             'C#\\tmajor',\n",
    "             'D\\tmajor',\n",
    "             'D#\\tmajor',\n",
    "             'E\\tmajor',\n",
    "             'F\\tmajor',\n",
    "             'F#\\tmajor',\n",
    "             'G\\tmajor',\n",
    "             'G#\\tmajor',\n",
    "             'A\\tminor',\n",
    "             'A#\\tminor',\n",
    "             'B\\tminor',\n",
    "             'C\\tminor',\n",
    "             'C#\\tminor',\n",
    "             'D\\tminor',\n",
    "             'D#\\tminor',\n",
    "             'E\\tminor',\n",
    "             'F\\tminor',\n",
    "             'F#\\tminor',\n",
    "             'G\\tminor',\n",
    "             'G#\\tminor']\n"
   ]
  },
  {
   "cell_type": "code",
   "execution_count": 2,
   "metadata": {},
   "outputs": [],
   "source": [
    "def get_vector_from_key(key):\n",
    "    vector = np.zeros(24)\n",
    "    if key < 12: #major\n",
    "        vector[key] = 1\n",
    "        vector[(key + 7) % 12] = 0.5\n",
    "        vector[(key + 9) % 12 + 12] = 0.3\n",
    "        vector[key + 12] = 0.2\n",
    "    else: # minor\n",
    "        vector[key] = 1\n",
    "        vector[(key + 7) % 12 + 12] = 0.5\n",
    "        vector[(key + 3) % 12] = 0.3\n",
    "        vector[key - 12] = 0.2\n",
    "        \n",
    "    vector /= 2\n",
    "    \n",
    "    return vector"
   ]
  },
  {
   "cell_type": "code",
   "execution_count": 3,
   "metadata": {},
   "outputs": [],
   "source": [
    "def get_string_from_vector(vector):\n",
    "    return STRING_MAP[np.argmax(vector)]"
   ]
  },
  {
   "cell_type": "code",
   "execution_count": 4,
   "metadata": {},
   "outputs": [],
   "source": [
    "def generate_one_hot_guess(vector):\n",
    "    return np.argmax(vector)"
   ]
  },
  {
   "cell_type": "code",
   "execution_count": 5,
   "metadata": {},
   "outputs": [],
   "source": [
    "def read_audio(infile):\n",
    "    # Input: file name (including path) to read as audio, any format, probably\n",
    "    # Output: fs, audio_data\n",
    "    #        fs = sample rate, in Hz\n",
    "    #        audio_data = numpy array containing each sample's value as a 16-bit signed integer\n",
    "    with audioread.audio_open(infile) as f:\n",
    "        fs = f.samplerate\n",
    "        audio_data = []\n",
    "        for buf in f:\n",
    "            audio_data.extend(np.frombuffer(buf, dtype='<i2'))\n",
    "        audio_data = np.array(audio_data)\n",
    "        return fs, audio_data"
   ]
  },
  {
   "cell_type": "code",
   "execution_count": 6,
   "metadata": {},
   "outputs": [],
   "source": [
    "def read_data(file):\n",
    "    # Input: file name (relative to 'genres') directory, do read data from\n",
    "    # Output: fs, audio_data, y\n",
    "    #        fs = sample rate, in Hz *FROM read_audio method, above.\n",
    "    #        audio_data = numpy array containing each sample's value as a 16-bit signed integer *FROM read_audio method, above\n",
    "    #        y = normalized ground truth scoring vector for the given file *FROM get_vector_from_key method, above.\n",
    "    y = get_vector_from_key(int(open(KEY_FILE_PREFIX + file + KEY_FILE_SUFFIX, 'r').read()))\n",
    "    fs, audio_data = read_audio(GTZAN_PREFIX + file + GTZAN_SUFFIX)\n",
    "    return fs, audio_data, y"
   ]
  },
  {
   "cell_type": "code",
   "execution_count": 7,
   "metadata": {},
   "outputs": [],
   "source": [
    "# EXAMPLE:\n",
    "fs, audio_data, y = read_data('blues/blues.00000')"
   ]
  },
  {
   "cell_type": "code",
   "execution_count": 8,
   "metadata": {},
   "outputs": [
    {
     "data": {
      "text/plain": [
       "22050"
      ]
     },
     "execution_count": 8,
     "metadata": {},
     "output_type": "execute_result"
    }
   ],
   "source": [
    "fs"
   ]
  },
  {
   "cell_type": "code",
   "execution_count": 9,
   "metadata": {},
   "outputs": [
    {
     "data": {
      "text/plain": [
       "array([  240,   544,   250, ..., -1822, -2001, -2103], dtype=int16)"
      ]
     },
     "execution_count": 9,
     "metadata": {},
     "output_type": "execute_result"
    }
   ],
   "source": [
    "audio_data"
   ]
  },
  {
   "cell_type": "code",
   "execution_count": 10,
   "metadata": {},
   "outputs": [
    {
     "data": {
      "text/plain": [
       "array([0.  , 0.15, 0.  , 0.  , 0.  , 0.  , 0.  , 0.  , 0.  , 0.  , 0.1 ,\n",
       "       0.  , 0.  , 0.  , 0.  , 0.  , 0.  , 0.25, 0.  , 0.  , 0.  , 0.  ,\n",
       "       0.5 , 0.  ])"
      ]
     },
     "execution_count": 10,
     "metadata": {},
     "output_type": "execute_result"
    }
   ],
   "source": [
    "y"
   ]
  },
  {
   "cell_type": "code",
   "execution_count": null,
   "metadata": {},
   "outputs": [],
   "source": []
  }
 ],
 "metadata": {
  "kernelspec": {
   "display_name": "Python 3",
   "language": "python",
   "name": "python3"
  },
  "language_info": {
   "codemirror_mode": {
    "name": "ipython",
    "version": 3
   },
   "file_extension": ".py",
   "mimetype": "text/x-python",
   "name": "python",
   "nbconvert_exporter": "python",
   "pygments_lexer": "ipython3",
   "version": "3.6.6"
  }
 },
 "nbformat": 4,
 "nbformat_minor": 2
}
